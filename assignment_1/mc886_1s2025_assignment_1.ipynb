{
 "cells": [
  {
   "cell_type": "markdown",
   "metadata": {
    "id": "NGk_Hx6O5Xw7"
   },
   "source": [
    "### **State University of Campinas - UNICAMP** </br>\n",
    "**Course**: MC886A </br>\n",
    "**Professor**: Marcelo da Silva Reis </br>\n",
    "**TA (PED)**: Marcos Vinicius Souza Freire\n",
    "\n",
    "---"
   ]
  },
  {
   "cell_type": "markdown",
   "metadata": {
    "id": "9ladvjScB0B7"
   },
   "source": [
    "**Student 1**:\n",
    "\n",
    "**RA 1**:\n",
    "\n",
    "**Student 2**:\n",
    "\n",
    "**RA 2**:"
   ]
  },
  {
   "cell_type": "markdown",
   "metadata": {
    "id": "Vt1kV57fCQ34"
   },
   "source": [
    "---"
   ]
  },
  {
   "cell_type": "markdown",
   "metadata": {
    "id": "gT-27XAf5XxG"
   },
   "source": [
    "### **Assignment 1: MC886A**\n",
    "##### Notebook: mc886_1s2025-assignment_1.ipynb"
   ]
  },
  {
   "cell_type": "markdown",
   "metadata": {
    "id": "ugbXcm3i5XxH"
   },
   "source": [
    "---"
   ]
  },
  {
   "cell_type": "markdown",
   "metadata": {
    "id": "P6i80tpG5XxI"
   },
   "source": [
    "Dear Students, welcome to MC886!!!\n",
    "\n",
    "**You've Got This!** 🤗  \n",
    "\n",
    "Now that you are building a strong foundation in regression and classification through the first lectures, it's time to put your skills into action with this notebook! Remember, the goal isn't just to \"get the code running\" but to **deeply understand** how these algorithms work under the hood.  \n",
    "\n",
    "- **For the Linear Regression section:**  \n",
    "  Implementing the Linear Regressor manually might feel tricky at first, but trust the process. Every line of code you write, from initializing weights to updating gradients, is a step toward mastering the core of machine learning. Compare your results with PyTorch's implementation to see how theory translates into powerful frameworks!  \n",
    "\n",
    "- **For the KNN Classifier:**  \n",
    "  Building a classifier from scratch will test your problem-solving skills. Don’t worry if your first attempt isn't perfect, debugging is part of the journey!  \n",
    "\n",
    "**Pro Tips:**  \n",
    "1. Use the visualizations and mutual information analysis to guide your feature engineering.  \n",
    "2. When stuck, revisit the math behind MSE, MAE, and R². They're not just metrics, but tools to evaluate your model's \"story\". Also, remember to discuss the implementation with your pair. Don't hesitate in reaching the TA (\"PED\") via Discord (https://discord.gg/ArdB8FtBcq).   \n",
    "3. Celebrate small wins! Got your manual linear regressor to train? That's a victory.  \n",
    "\n",
    "**Remember:**  \n",
    "Machine learning is a marathon, not a sprint. Struggling with a concept? That's where the real learning happens. You're not just writing code, you're training your brain to think like a data scientist.  \n",
    "\n",
    "Let curiosity drive you, and don't hesitate to ask questions.\n",
    "\n",
    "🌅 **Go make those models shine!** 🚀  "
   ]
  },
  {
   "cell_type": "markdown",
   "metadata": {
    "id": "jRK7rqaE5XxL"
   },
   "source": [
    "---"
   ]
  },
  {
   "cell_type": "markdown",
   "metadata": {
    "id": "Ph95XRdn5XxM"
   },
   "source": [
    "### **Table of Contents**\n",
    "\n",
    "1. [**Objective**](#objective) </br>\n",
    "2. [**Linear Regression**](#linear-regression) </br>\n",
    "3. [**Data analysis and preprocessing**](#data-analysis-and-preprocessing) </br>\n",
    "4. [**Implement and train a Linear Regressor**](#implement-and-train-a-linear-regressor) </br>\n",
    "5. [**Compare with PyTorch Linear Regression**](#compare-with-pytorch-linear-regression) </br>\n",
    "6. [**Find interaction terms**](#find-interaction-terms) </br>\n",
    "7. [**K-Nearest Neighbors (KNN) Classifier**](#k-nearest-neighbors-knn-classifier) </br>\n",
    "8. [**Data analysis and preprocessing**](#data-analysis-and-preprocessing) </br>\n",
    "9. [**Train a K-Nearest Neighbors Classifier**](#train-a-k-nearest-neighbors-classifier) </br>\n",
    "10. [**Multiclass Classification**](#multiclass-classification) </br>\n",
    "11. [**REFERENCES**](#references)\n",
    "\n",
    "---"
   ]
  },
  {
   "cell_type": "markdown",
   "metadata": {
    "id": "M33BcjVy5XxN"
   },
   "source": [
    "##### **Objective:**\n",
    "\n",
    "To explore **Linear Regression** and **K-Nearest Neighbors** alternatives and come up with the best possible model for the problems. In this work, we will train two models for regression (one manual and one using PyTorch) and one for multiclass classification using PyTorch.\n",
    "\n",
    "---"
   ]
  },
  {
   "cell_type": "markdown",
   "metadata": {
    "id": "rUisX9H65XxO"
   },
   "source": [
    "#### **Linear Regression**\n",
    "\n",
    "In this section, you must load and explore the dataset, and build a linear regressor by hand. **No machine learning libraries are allowed for this implementation**. After building your own regressor, you must compare it with a PyTorch-based linear regression model.\n",
    "\n",
    "##### **Dataset: Life Expectancy Data (Rajarshi *et al.*, 2018)[1]**\n",
    "\n",
    "This dataset contains health and socio-economic factors collected across various countries over multiple years, with the goal of predicting life expectancy.\n",
    "\n",
    "Understanding life expectancy helps countries to allocate resources effectively and identify key factors influencing public health. This dataset was collected to study how various health, economic, and social indicators impact life expectancy.\n",
    "\n",
    "Features and their descriptions:\n",
    "- **Year**: Year of the sample\n",
    "- **Status**: Development status of the country (Developed/Developing)\n",
    "- **Life expectancy (TARGET)**: Average life expectancy at birth (in years)\n",
    "- **Adult Mortality**: Probability of dying between 15 and 60 years per 1000 population\n",
    "- **infant deaths**: Number of infant deaths per 1000 population\n",
    "- **Alcohol**: Per capita alcohol consumption (in liters of pure alcohol)\n",
    "- **percentage expenditure**: Expenditure on health as a percentage of GDP\n",
    "- **Hepatitis B**: Hepatitis B immunization coverage among 1-year-olds (%)\n",
    "- **Measles**: Number of reported measles cases per 1000 population\n",
    "- **BMI**: Average Body Mass Index of the population\n",
    "- **under-five deaths**: Number of under-five deaths per 1000 population\n",
    "- **Polio**: Polio immunization coverage among 1-year-olds (%)\n",
    "- **Total expenditure**: General government expenditure on health as a percentage of total government expenditure\n",
    "- **Diphtheria**: Diphtheria immunization coverage among 1-year-olds (%)\n",
    "- **HIV/AIDS**: Deaths per 1000 live births due to HIV/AIDS (0-4 years)\n",
    "- **GDP**: Gross Domestic Product per capita (in USD)\n",
    "- **Population**: Population of the country\n",
    "- **thinness 1-19 years**: Prevalence of thinness among children and adolescents aged 1-19 (%)\n",
    "- **thinness 5-9 years**: Prevalence of thinness among children aged 5-9 (%)\n",
    "- **Income composition of resources**: Human Development Index component for income (0-1 scale)\n",
    "- **Schooling**: Average number of years of schooling\n",
    "\n",
    "**How to load the dataset**\n",
    "\n",
    "- For this task, we will load the dataset from a local CSV file. Ensure `life_expectancy_data.csv` is in your working directory or adjust the path accordingly.\n",
    "- The dataset is located in `assignement_1/data/life_expectancy_data.csv`"
   ]
  },
  {
   "cell_type": "markdown",
   "metadata": {
    "id": "tGLPac165XxP"
   },
   "source": [
    "---"
   ]
  },
  {
   "cell_type": "code",
   "execution_count": 2,
   "metadata": {
    "id": "CP969eDo5XxQ"
   },
   "outputs": [],
   "source": [
    "# Import necessary libraries for data handling, visualization, and PyTorch-based modeling\n",
    "import pandas as pd\n",
    "import torch\n",
    "import torch.nn as nn\n",
    "from torchmetrics import MeanSquaredError, MeanAbsoluteError, R2Score, Accuracy, F1Score, ConfusionMatrix\n",
    "import matplotlib.pyplot as plt\n",
    "import numpy as np"
   ]
  },
  {
   "cell_type": "code",
   "execution_count": 3,
   "metadata": {
    "id": "ZvUZ5RC05XxT"
   },
   "outputs": [],
   "source": [
    "### REMEMBER TO RE-VISIT THE NOTEBOOKS \"00-setup.ipynb\" and \"01-pytorch-tensor_basics.ipynb\", from our first hands-on, so you can set the right environment for you."
   ]
  },
  {
   "cell_type": "code",
   "execution_count": 4,
   "metadata": {
    "id": "F_MtMN825XxU"
   },
   "outputs": [],
   "source": [
    "# Load dataset from a local CSV file\n",
    "# Ensure the file \"Life Expectancy Data.csv\" is in the \"data\" folder within your working directory (RE-VISIT THE NOTEBOOKS \"00-setup.ipynb\" and \"01-pytorch-tensor_basics.ipynb\")\n",
    "df = pd.read_csv(\"data/life_expectancy_data.csv\")  # You may change this path"
   ]
  },
  {
   "cell_type": "code",
   "execution_count": 5,
   "metadata": {
    "id": "WUaM-Gj_5XxV"
   },
   "outputs": [],
   "source": [
    "# Drop non-numeric or unnecessary columns\n",
    "df = df.drop([\"Country\"], axis=1)  # Country names aren't directly usable\n",
    "\n",
    "# Convert the categorical \"Status\" column (Developed/Developing) into numeric values\n",
    "# Developed = 1, Developing = 0 (binary encoding)\n",
    "df[\"Status\"] = df[\"Status\"].map({\"Developed\": 1, \"Developing\": 0})\n",
    "\n",
    "# Handle missing values (fill with median for simplicity)\n",
    "df = df.fillna(df.median())"
   ]
  },
  {
   "cell_type": "code",
   "execution_count": 6,
   "metadata": {
    "id": "pii_xtOf5XxV"
   },
   "outputs": [],
   "source": [
    "# Define features (X) and target (y) for the regression task\n",
    "# X: all columns except \"Life expectancy\" (the target)\n",
    "# y: \"Life expectancy\" column, reshaped to a column vector for compatibility\n",
    "X = torch.tensor(df.drop(\"Life expectancy\", axis=1).values, dtype=torch.float32)\n",
    "y = torch.tensor(df[\"Life expectancy\"].values, dtype=torch.float32).view(-1, 1)\n",
    "\n",
    "# Split the data into training and testing sets\n",
    "def split_sets(X, y, normalize=True):\n",
    "    train_size = int(0.8 * len(X)) # Example using 80%\n",
    "    X_train, X_test = X[:train_size], X[train_size:]\n",
    "    y_train, y_test = y[:train_size], y[train_size:]\n",
    "    \n",
    "    # Compute normalization parameters using only the training data\n",
    "    X_train_mean = X_train.mean(dim=0)\n",
    "    X_train_std = X_train.std(dim=0)\n",
    "    y_train_mean = y_train.mean()\n",
    "    y_train_std = y_train.std()\n",
    "\n",
    "    if normalize:\n",
    "        # Normalize training and testing data using training parameters\n",
    "        X_train = (X_train - X_train_mean) / X_train_std\n",
    "        X_test = (X_test - X_train_mean) / X_train_std  # Use training mean and std\n",
    "        y_train = (y_train - y_train_mean) / y_train_std\n",
    "        y_test = (y_test - y_train_mean) / y_train_std  # Use training mean and std\n",
    "\n",
    "    return X_train, X_test, y_train, y_test, X_train_mean, X_train_std, y_train_mean, y_train_std\n",
    "\n",
    "X_train, X_test, y_train, y_test, X_train_mean, X_train_std, y_train_mean, y_train_std = split_sets(X, y)"
   ]
  },
  {
   "cell_type": "markdown",
   "metadata": {
    "id": "7aSUf7xK5XxW"
   },
   "source": [
    "#### **Data analysis and preprocessing**\n",
    "\n",
    "$({1.5} \\space point)$\n",
    "\n",
    "Explore the dataset by plotting graphs of features you think are important to visualize their relationship with the target (`Life expectancy`). Use boxplots to understand feature distributions. There are no minimum/maximum requirements for graphs. Explore what helps you understand the dataset.\n",
    "\n",
    "Check the dependencies between features and the target to identify which have the biggest impact (see the `mutual_information` section below).\n",
    "\n",
    "The dataset has one categorical feature (`Status`) that has been encoded as binary (1=Developed, 0=Developing). Ensure all features are numeric and handle missing values appropriately.\n",
    "\n",
    "Machine learning models are sensitive to the scale of input features, so normalization is applied above.\n",
    "\n",
    "**Mutual Information**\n",
    "\n",
    "Mutual information measures the dependency between variables and can help identify features strongly associated with `Life expectancy`. For this task, you may use [`mutual_info_regression`](https://scikit-learn.org/stable/modules/generated/sklearn.feature_selection.mutual_info_regression.html) from Scikit-learn as an exploratory tool (an exception to the no-Scikit-learn rule for modeling)."
   ]
  },
  {
   "cell_type": "code",
   "execution_count": 7,
   "metadata": {
    "id": "71xkXweQ5XxW"
   },
   "outputs": [
    {
     "data": {
      "application/vnd.plotly.v1+json": {
       "config": {
        "plotlyServerURL": "https://plot.ly"
       },
       "data": [
        {
         "hovertemplate": "Features=%{x}<br>Mutual Information=%{y}<extra></extra>",
         "legendgroup": "",
         "marker": {
          "color": "#636efa",
          "pattern": {
           "shape": ""
          }
         },
         "name": "",
         "orientation": "v",
         "showlegend": false,
         "textposition": "auto",
         "type": "bar",
         "x": [
          "Year",
          "Status",
          "Adult Mortality",
          "infant deaths",
          "Alcohol",
          "percentage expenditure",
          "Hepatitis B",
          "Measles",
          "BMI",
          "under-five deaths",
          "Polio",
          "Total expenditure",
          "Diphtheria",
          "HIV/AIDS",
          "GDP",
          "Population",
          "thinness  1-19 years",
          "thinness 5-9 years",
          "Income composition of resources",
          "Schooling"
         ],
         "xaxis": "x",
         "y": {
          "bdata": "IEkIA5K8sj/YH/9ye/zKP3rweHh6aPQ/QDz/MCO72z8QAe5e8NTVP4AGfLlL09I/MOBGxYSryD/AT1ugXJm+P6AAq+eCW+I/8NanMlmJ2z/4o7yrrWfUPyCVGnzuwdA/8MRZzdas0j9ctkpkY+TgP9iFMn5dWNY/QK1/QUddwz90COMFD4zoP8hug2B42+g/vCUuo6wv7T9Y22H3dLTlPw==",
          "dtype": "f8"
         },
         "yaxis": "y"
        }
       ],
       "layout": {
        "bargap": 0.2,
        "barmode": "relative",
        "height": 400,
        "legend": {
         "tracegroupgap": 0
        },
        "template": {
         "data": {
          "bar": [
           {
            "error_x": {
             "color": "#2a3f5f"
            },
            "error_y": {
             "color": "#2a3f5f"
            },
            "marker": {
             "line": {
              "color": "#E5ECF6",
              "width": 0.5
             },
             "pattern": {
              "fillmode": "overlay",
              "size": 10,
              "solidity": 0.2
             }
            },
            "type": "bar"
           }
          ],
          "barpolar": [
           {
            "marker": {
             "line": {
              "color": "#E5ECF6",
              "width": 0.5
             },
             "pattern": {
              "fillmode": "overlay",
              "size": 10,
              "solidity": 0.2
             }
            },
            "type": "barpolar"
           }
          ],
          "carpet": [
           {
            "aaxis": {
             "endlinecolor": "#2a3f5f",
             "gridcolor": "white",
             "linecolor": "white",
             "minorgridcolor": "white",
             "startlinecolor": "#2a3f5f"
            },
            "baxis": {
             "endlinecolor": "#2a3f5f",
             "gridcolor": "white",
             "linecolor": "white",
             "minorgridcolor": "white",
             "startlinecolor": "#2a3f5f"
            },
            "type": "carpet"
           }
          ],
          "choropleth": [
           {
            "colorbar": {
             "outlinewidth": 0,
             "ticks": ""
            },
            "type": "choropleth"
           }
          ],
          "contour": [
           {
            "colorbar": {
             "outlinewidth": 0,
             "ticks": ""
            },
            "colorscale": [
             [
              0,
              "#0d0887"
             ],
             [
              0.1111111111111111,
              "#46039f"
             ],
             [
              0.2222222222222222,
              "#7201a8"
             ],
             [
              0.3333333333333333,
              "#9c179e"
             ],
             [
              0.4444444444444444,
              "#bd3786"
             ],
             [
              0.5555555555555556,
              "#d8576b"
             ],
             [
              0.6666666666666666,
              "#ed7953"
             ],
             [
              0.7777777777777778,
              "#fb9f3a"
             ],
             [
              0.8888888888888888,
              "#fdca26"
             ],
             [
              1,
              "#f0f921"
             ]
            ],
            "type": "contour"
           }
          ],
          "contourcarpet": [
           {
            "colorbar": {
             "outlinewidth": 0,
             "ticks": ""
            },
            "type": "contourcarpet"
           }
          ],
          "heatmap": [
           {
            "colorbar": {
             "outlinewidth": 0,
             "ticks": ""
            },
            "colorscale": [
             [
              0,
              "#0d0887"
             ],
             [
              0.1111111111111111,
              "#46039f"
             ],
             [
              0.2222222222222222,
              "#7201a8"
             ],
             [
              0.3333333333333333,
              "#9c179e"
             ],
             [
              0.4444444444444444,
              "#bd3786"
             ],
             [
              0.5555555555555556,
              "#d8576b"
             ],
             [
              0.6666666666666666,
              "#ed7953"
             ],
             [
              0.7777777777777778,
              "#fb9f3a"
             ],
             [
              0.8888888888888888,
              "#fdca26"
             ],
             [
              1,
              "#f0f921"
             ]
            ],
            "type": "heatmap"
           }
          ],
          "histogram": [
           {
            "marker": {
             "pattern": {
              "fillmode": "overlay",
              "size": 10,
              "solidity": 0.2
             }
            },
            "type": "histogram"
           }
          ],
          "histogram2d": [
           {
            "colorbar": {
             "outlinewidth": 0,
             "ticks": ""
            },
            "colorscale": [
             [
              0,
              "#0d0887"
             ],
             [
              0.1111111111111111,
              "#46039f"
             ],
             [
              0.2222222222222222,
              "#7201a8"
             ],
             [
              0.3333333333333333,
              "#9c179e"
             ],
             [
              0.4444444444444444,
              "#bd3786"
             ],
             [
              0.5555555555555556,
              "#d8576b"
             ],
             [
              0.6666666666666666,
              "#ed7953"
             ],
             [
              0.7777777777777778,
              "#fb9f3a"
             ],
             [
              0.8888888888888888,
              "#fdca26"
             ],
             [
              1,
              "#f0f921"
             ]
            ],
            "type": "histogram2d"
           }
          ],
          "histogram2dcontour": [
           {
            "colorbar": {
             "outlinewidth": 0,
             "ticks": ""
            },
            "colorscale": [
             [
              0,
              "#0d0887"
             ],
             [
              0.1111111111111111,
              "#46039f"
             ],
             [
              0.2222222222222222,
              "#7201a8"
             ],
             [
              0.3333333333333333,
              "#9c179e"
             ],
             [
              0.4444444444444444,
              "#bd3786"
             ],
             [
              0.5555555555555556,
              "#d8576b"
             ],
             [
              0.6666666666666666,
              "#ed7953"
             ],
             [
              0.7777777777777778,
              "#fb9f3a"
             ],
             [
              0.8888888888888888,
              "#fdca26"
             ],
             [
              1,
              "#f0f921"
             ]
            ],
            "type": "histogram2dcontour"
           }
          ],
          "mesh3d": [
           {
            "colorbar": {
             "outlinewidth": 0,
             "ticks": ""
            },
            "type": "mesh3d"
           }
          ],
          "parcoords": [
           {
            "line": {
             "colorbar": {
              "outlinewidth": 0,
              "ticks": ""
             }
            },
            "type": "parcoords"
           }
          ],
          "pie": [
           {
            "automargin": true,
            "type": "pie"
           }
          ],
          "scatter": [
           {
            "fillpattern": {
             "fillmode": "overlay",
             "size": 10,
             "solidity": 0.2
            },
            "type": "scatter"
           }
          ],
          "scatter3d": [
           {
            "line": {
             "colorbar": {
              "outlinewidth": 0,
              "ticks": ""
             }
            },
            "marker": {
             "colorbar": {
              "outlinewidth": 0,
              "ticks": ""
             }
            },
            "type": "scatter3d"
           }
          ],
          "scattercarpet": [
           {
            "marker": {
             "colorbar": {
              "outlinewidth": 0,
              "ticks": ""
             }
            },
            "type": "scattercarpet"
           }
          ],
          "scattergeo": [
           {
            "marker": {
             "colorbar": {
              "outlinewidth": 0,
              "ticks": ""
             }
            },
            "type": "scattergeo"
           }
          ],
          "scattergl": [
           {
            "marker": {
             "colorbar": {
              "outlinewidth": 0,
              "ticks": ""
             }
            },
            "type": "scattergl"
           }
          ],
          "scattermap": [
           {
            "marker": {
             "colorbar": {
              "outlinewidth": 0,
              "ticks": ""
             }
            },
            "type": "scattermap"
           }
          ],
          "scattermapbox": [
           {
            "marker": {
             "colorbar": {
              "outlinewidth": 0,
              "ticks": ""
             }
            },
            "type": "scattermapbox"
           }
          ],
          "scatterpolar": [
           {
            "marker": {
             "colorbar": {
              "outlinewidth": 0,
              "ticks": ""
             }
            },
            "type": "scatterpolar"
           }
          ],
          "scatterpolargl": [
           {
            "marker": {
             "colorbar": {
              "outlinewidth": 0,
              "ticks": ""
             }
            },
            "type": "scatterpolargl"
           }
          ],
          "scatterternary": [
           {
            "marker": {
             "colorbar": {
              "outlinewidth": 0,
              "ticks": ""
             }
            },
            "type": "scatterternary"
           }
          ],
          "surface": [
           {
            "colorbar": {
             "outlinewidth": 0,
             "ticks": ""
            },
            "colorscale": [
             [
              0,
              "#0d0887"
             ],
             [
              0.1111111111111111,
              "#46039f"
             ],
             [
              0.2222222222222222,
              "#7201a8"
             ],
             [
              0.3333333333333333,
              "#9c179e"
             ],
             [
              0.4444444444444444,
              "#bd3786"
             ],
             [
              0.5555555555555556,
              "#d8576b"
             ],
             [
              0.6666666666666666,
              "#ed7953"
             ],
             [
              0.7777777777777778,
              "#fb9f3a"
             ],
             [
              0.8888888888888888,
              "#fdca26"
             ],
             [
              1,
              "#f0f921"
             ]
            ],
            "type": "surface"
           }
          ],
          "table": [
           {
            "cells": {
             "fill": {
              "color": "#EBF0F8"
             },
             "line": {
              "color": "white"
             }
            },
            "header": {
             "fill": {
              "color": "#C8D4E3"
             },
             "line": {
              "color": "white"
             }
            },
            "type": "table"
           }
          ]
         },
         "layout": {
          "annotationdefaults": {
           "arrowcolor": "#2a3f5f",
           "arrowhead": 0,
           "arrowwidth": 1
          },
          "autotypenumbers": "strict",
          "coloraxis": {
           "colorbar": {
            "outlinewidth": 0,
            "ticks": ""
           }
          },
          "colorscale": {
           "diverging": [
            [
             0,
             "#8e0152"
            ],
            [
             0.1,
             "#c51b7d"
            ],
            [
             0.2,
             "#de77ae"
            ],
            [
             0.3,
             "#f1b6da"
            ],
            [
             0.4,
             "#fde0ef"
            ],
            [
             0.5,
             "#f7f7f7"
            ],
            [
             0.6,
             "#e6f5d0"
            ],
            [
             0.7,
             "#b8e186"
            ],
            [
             0.8,
             "#7fbc41"
            ],
            [
             0.9,
             "#4d9221"
            ],
            [
             1,
             "#276419"
            ]
           ],
           "sequential": [
            [
             0,
             "#0d0887"
            ],
            [
             0.1111111111111111,
             "#46039f"
            ],
            [
             0.2222222222222222,
             "#7201a8"
            ],
            [
             0.3333333333333333,
             "#9c179e"
            ],
            [
             0.4444444444444444,
             "#bd3786"
            ],
            [
             0.5555555555555556,
             "#d8576b"
            ],
            [
             0.6666666666666666,
             "#ed7953"
            ],
            [
             0.7777777777777778,
             "#fb9f3a"
            ],
            [
             0.8888888888888888,
             "#fdca26"
            ],
            [
             1,
             "#f0f921"
            ]
           ],
           "sequentialminus": [
            [
             0,
             "#0d0887"
            ],
            [
             0.1111111111111111,
             "#46039f"
            ],
            [
             0.2222222222222222,
             "#7201a8"
            ],
            [
             0.3333333333333333,
             "#9c179e"
            ],
            [
             0.4444444444444444,
             "#bd3786"
            ],
            [
             0.5555555555555556,
             "#d8576b"
            ],
            [
             0.6666666666666666,
             "#ed7953"
            ],
            [
             0.7777777777777778,
             "#fb9f3a"
            ],
            [
             0.8888888888888888,
             "#fdca26"
            ],
            [
             1,
             "#f0f921"
            ]
           ]
          },
          "colorway": [
           "#636efa",
           "#EF553B",
           "#00cc96",
           "#ab63fa",
           "#FFA15A",
           "#19d3f3",
           "#FF6692",
           "#B6E880",
           "#FF97FF",
           "#FECB52"
          ],
          "font": {
           "color": "#2a3f5f"
          },
          "geo": {
           "bgcolor": "white",
           "lakecolor": "white",
           "landcolor": "#E5ECF6",
           "showlakes": true,
           "showland": true,
           "subunitcolor": "white"
          },
          "hoverlabel": {
           "align": "left"
          },
          "hovermode": "closest",
          "mapbox": {
           "style": "light"
          },
          "paper_bgcolor": "white",
          "plot_bgcolor": "#E5ECF6",
          "polar": {
           "angularaxis": {
            "gridcolor": "white",
            "linecolor": "white",
            "ticks": ""
           },
           "bgcolor": "#E5ECF6",
           "radialaxis": {
            "gridcolor": "white",
            "linecolor": "white",
            "ticks": ""
           }
          },
          "scene": {
           "xaxis": {
            "backgroundcolor": "#E5ECF6",
            "gridcolor": "white",
            "gridwidth": 2,
            "linecolor": "white",
            "showbackground": true,
            "ticks": "",
            "zerolinecolor": "white"
           },
           "yaxis": {
            "backgroundcolor": "#E5ECF6",
            "gridcolor": "white",
            "gridwidth": 2,
            "linecolor": "white",
            "showbackground": true,
            "ticks": "",
            "zerolinecolor": "white"
           },
           "zaxis": {
            "backgroundcolor": "#E5ECF6",
            "gridcolor": "white",
            "gridwidth": 2,
            "linecolor": "white",
            "showbackground": true,
            "ticks": "",
            "zerolinecolor": "white"
           }
          },
          "shapedefaults": {
           "line": {
            "color": "#2a3f5f"
           }
          },
          "ternary": {
           "aaxis": {
            "gridcolor": "white",
            "linecolor": "white",
            "ticks": ""
           },
           "baxis": {
            "gridcolor": "white",
            "linecolor": "white",
            "ticks": ""
           },
           "bgcolor": "#E5ECF6",
           "caxis": {
            "gridcolor": "white",
            "linecolor": "white",
            "ticks": ""
           }
          },
          "title": {
           "x": 0.05
          },
          "xaxis": {
           "automargin": true,
           "gridcolor": "white",
           "linecolor": "white",
           "ticks": "",
           "title": {
            "standoff": 15
           },
           "zerolinecolor": "white",
           "zerolinewidth": 2
          },
          "yaxis": {
           "automargin": true,
           "gridcolor": "white",
           "linecolor": "white",
           "ticks": "",
           "title": {
            "standoff": 15
           },
           "zerolinecolor": "white",
           "zerolinewidth": 2
          }
         }
        },
        "title": {
         "text": "Feature Importance"
        },
        "width": 800,
        "xaxis": {
         "anchor": "y",
         "domain": [
          0,
          1
         ],
         "tickangle": -45,
         "title": {
          "text": "Features"
         }
        },
        "yaxis": {
         "anchor": "x",
         "domain": [
          0,
          1
         ],
         "title": {
          "text": "Mutual Information"
         }
        }
       }
      }
     },
     "metadata": {},
     "output_type": "display_data"
    }
   ],
   "source": [
    "import numpy as np\n",
    "import plotly.express as px # Here I proposed Plotly, for interactive plots. You can use other libraries, such as Seaborn or Matplotlib, if you prefer.\n",
    "from sklearn.feature_selection import mutual_info_regression\n",
    "\n",
    "# Prepare raw data (before normalization) for mutual information calculation\n",
    "X_raw = df.drop(\"Life expectancy\", axis=1)\n",
    "y_raw = df[\"Life expectancy\"]\n",
    "\n",
    "# Compute mutual information; \"Year\" (index 0)\n",
    "mt_info = mutual_info_regression(X_raw, y_raw, discrete_features=[0])  # Year is is treated as discrete\n",
    "\n",
    "# Create a Series for visualization\n",
    "mt_info_df = pd.Series(mt_info, index=X_raw.columns)\n",
    "\n",
    "# Plot mutual information as a bar chart using Plotly or other library of your choice\n",
    "fig = px.bar(\n",
    "    x=mt_info_df.index,\n",
    "    y=mt_info_df.values,\n",
    "    labels={'x': 'Features', 'y': 'Mutual Information'},\n",
    "    title='Feature Importance',\n",
    "    height=400,\n",
    "    width=800\n",
    ")\n",
    "fig.update_layout(\n",
    "    xaxis_tickangle=-45,\n",
    "    xaxis_title=\"Features\",\n",
    "    yaxis_title=\"Mutual Information\",\n",
    "    bargap=0.2\n",
    ")\n",
    "fig.show()"
   ]
  },
  {
   "cell_type": "code",
   "execution_count": 8,
   "metadata": {},
   "outputs": [
    {
     "data": {
      "text/plain": [
       "<Axes: >"
      ]
     },
     "execution_count": 8,
     "metadata": {},
     "output_type": "execute_result"
    },
    {
     "data": {
      "image/png": "[encoded data removed]",
      "text/plain": [
       "<Figure size 640x480 with 2 Axes>"
      ]
     },
     "metadata": {},
     "output_type": "display_data"
    }
   ],
   "source": [
    "correlation = df.corr()\n",
    "\n",
    "import seaborn as sns\n",
    "pd.DataFrame()\n",
    "sns.heatmap(pd.DataFrame(correlation[\"Life expectancy\"], index=list(correlation[\"Life expectancy\"].keys())), annot=True, fmt=\"g\", cmap='viridis')\n",
    "# heatmap = sns.heatmap(correlation[\"Life expectancy\"])"
   ]
  },
  {
   "cell_type": "code",
   "execution_count": 9,
   "metadata": {},
   "outputs": [
    {
     "data": {
      "image/png": "[encoded data removed]",
      "text/plain": [
       "<Figure size 640x480 with 1 Axes>"
      ]
     },
     "metadata": {},
     "output_type": "display_data"
    },
    {
     "name": "stdout",
     "output_type": "stream",
     "text": [
      "DEVELOPED   - Outliers per data: 0.00%\n",
      "UNDEVELOPED - Outliers per data: 0.78%\n"
     ]
    },
    {
     "data": {
      "image/png": "[encoded data removed]",
      "text/plain": [
       "<Figure size 640x480 with 1 Axes>"
      ]
     },
     "metadata": {},
     "output_type": "display_data"
    },
    {
     "name": "stdout",
     "output_type": "stream",
     "text": [
      "DEVELOPED   - Outliers per data: 9.38%\n",
      "UNDEVELOPED - Outliers per data: 11.52%\n"
     ]
    },
    {
     "data": {
      "image/png": "[encoded data removed]",
      "text/plain": [
       "<Figure size 640x480 with 1 Axes>"
      ]
     },
     "metadata": {},
     "output_type": "display_data"
    },
    {
     "name": "stdout",
     "output_type": "stream",
     "text": [
      "DEVELOPED   - Outliers per data: 12.70%\n",
      "UNDEVELOPED - Outliers per data: 42.58%\n"
     ]
    },
    {
     "data": {
      "image/png": "[encoded data removed]",
      "text/plain": [
       "<Figure size 640x480 with 1 Axes>"
      ]
     },
     "metadata": {},
     "output_type": "display_data"
    },
    {
     "name": "stdout",
     "output_type": "stream",
     "text": [
      "DEVELOPED   - Outliers per data: 4.49%\n",
      "UNDEVELOPED - Outliers per data: 4.49%\n"
     ]
    },
    {
     "data": {
      "image/png": "[encoded data removed]",
      "text/plain": [
       "<Figure size 640x480 with 1 Axes>"
      ]
     },
     "metadata": {},
     "output_type": "display_data"
    },
    {
     "name": "stdout",
     "output_type": "stream",
     "text": [
      "DEVELOPED   - Outliers per data: 5.86%\n",
      "UNDEVELOPED - Outliers per data: 58.01%\n"
     ]
    },
    {
     "data": {
      "image/png": "[encoded data removed]",
      "text/plain": [
       "<Figure size 640x480 with 1 Axes>"
      ]
     },
     "metadata": {},
     "output_type": "display_data"
    },
    {
     "name": "stdout",
     "output_type": "stream",
     "text": [
      "DEVELOPED   - Outliers per data: 9.57%\n",
      "UNDEVELOPED - Outliers per data: 49.41%\n"
     ]
    },
    {
     "data": {
      "image/png": "[encoded data removed]",
      "text/plain": [
       "<Figure size 640x480 with 1 Axes>"
      ]
     },
     "metadata": {},
     "output_type": "display_data"
    },
    {
     "name": "stdout",
     "output_type": "stream",
     "text": [
      "DEVELOPED   - Outliers per data: 15.82%\n",
      "UNDEVELOPED - Outliers per data: 87.11%\n"
     ]
    },
    {
     "data": {
      "image/png": "[encoded data removed]",
      "text/plain": [
       "<Figure size 640x480 with 1 Axes>"
      ]
     },
     "metadata": {},
     "output_type": "display_data"
    },
    {
     "name": "stdout",
     "output_type": "stream",
     "text": [
      "DEVELOPED   - Outliers per data: 15.62%\n",
      "UNDEVELOPED - Outliers per data: 0.00%\n"
     ]
    },
    {
     "data": {
      "image/png": "[encoded data removed]",
      "text/plain": [
       "<Figure size 640x480 with 1 Axes>"
      ]
     },
     "metadata": {},
     "output_type": "display_data"
    },
    {
     "name": "stdout",
     "output_type": "stream",
     "text": [
      "DEVELOPED   - Outliers per data: 3.12%\n",
      "UNDEVELOPED - Outliers per data: 46.88%\n"
     ]
    },
    {
     "data": {
      "image/png": "[encoded data removed]",
      "text/plain": [
       "<Figure size 640x480 with 1 Axes>"
      ]
     },
     "metadata": {},
     "output_type": "display_data"
    },
    {
     "name": "stdout",
     "output_type": "stream",
     "text": [
      "DEVELOPED   - Outliers per data: 5.27%\n",
      "UNDEVELOPED - Outliers per data: 38.09%\n"
     ]
    },
    {
     "data": {
      "image/png": "[encoded data removed]",
      "text/plain": [
       "<Figure size 640x480 with 1 Axes>"
      ]
     },
     "metadata": {},
     "output_type": "display_data"
    },
    {
     "name": "stdout",
     "output_type": "stream",
     "text": [
      "DEVELOPED   - Outliers per data: 7.42%\n",
      "UNDEVELOPED - Outliers per data: 11.52%\n"
     ]
    },
    {
     "data": {
      "image/png": "[encoded data removed]",
      "text/plain": [
       "<Figure size 640x480 with 1 Axes>"
      ]
     },
     "metadata": {},
     "output_type": "display_data"
    },
    {
     "name": "stdout",
     "output_type": "stream",
     "text": [
      "DEVELOPED   - Outliers per data: 6.45%\n",
      "UNDEVELOPED - Outliers per data: 47.85%\n"
     ]
    },
    {
     "data": {
      "image/png": "[encoded data removed]",
      "text/plain": [
       "<Figure size 640x480 with 1 Axes>"
      ]
     },
     "metadata": {},
     "output_type": "display_data"
    },
    {
     "name": "stdout",
     "output_type": "stream",
     "text": [
      "DEVELOPED   - Outliers per data: 0.00%\n",
      "UNDEVELOPED - Outliers per data: 71.48%\n"
     ]
    },
    {
     "data": {
      "image/png": "[encoded data removed]",
      "text/plain": [
       "<Figure size 640x480 with 1 Axes>"
      ]
     },
     "metadata": {},
     "output_type": "display_data"
    },
    {
     "name": "stdout",
     "output_type": "stream",
     "text": [
      "DEVELOPED   - Outliers per data: 2.15%\n",
      "UNDEVELOPED - Outliers per data: 49.41%\n"
     ]
    },
    {
     "data": {
      "image/png": "[encoded data removed]",
      "text/plain": [
       "<Figure size 640x480 with 1 Axes>"
      ]
     },
     "metadata": {},
     "output_type": "display_data"
    },
    {
     "name": "stdout",
     "output_type": "stream",
     "text": [
      "DEVELOPED   - Outliers per data: 9.77%\n",
      "UNDEVELOPED - Outliers per data: 78.52%\n"
     ]
    },
    {
     "data": {
      "image/png": "[encoded data removed]",
      "text/plain": [
       "<Figure size 640x480 with 1 Axes>"
      ]
     },
     "metadata": {},
     "output_type": "display_data"
    },
    {
     "name": "stdout",
     "output_type": "stream",
     "text": [
      "DEVELOPED   - Outliers per data: 0.59%\n",
      "UNDEVELOPED - Outliers per data: 15.62%\n"
     ]
    },
    {
     "data": {
      "image/png": "[encoded data removed]",
      "text/plain": [
       "<Figure size 640x480 with 1 Axes>"
      ]
     },
     "metadata": {},
     "output_type": "display_data"
    },
    {
     "name": "stdout",
     "output_type": "stream",
     "text": [
      "DEVELOPED   - Outliers per data: 0.98%\n",
      "UNDEVELOPED - Outliers per data: 17.77%\n"
     ]
    },
    {
     "data": {
      "image/png": "[encoded data removed]",
      "text/plain": [
       "<Figure size 640x480 with 1 Axes>"
      ]
     },
     "metadata": {},
     "output_type": "display_data"
    },
    {
     "name": "stdout",
     "output_type": "stream",
     "text": [
      "DEVELOPED   - Outliers per data: 0.00%\n",
      "UNDEVELOPED - Outliers per data: 25.39%\n"
     ]
    },
    {
     "data": {
      "image/png": "[encoded data removed]",
      "text/plain": [
       "<Figure size 640x480 with 1 Axes>"
      ]
     },
     "metadata": {},
     "output_type": "display_data"
    },
    {
     "name": "stdout",
     "output_type": "stream",
     "text": [
      "DEVELOPED   - Outliers per data: 1.95%\n",
      "UNDEVELOPED - Outliers per data: 12.30%\n"
     ]
    }
   ],
   "source": [
    "query_developed = df.query(\"Status == 1\").drop([\"Status\", \"Year\"], axis=1)\n",
    "query_undeveloped = df.query(\"Status == 0\").drop([\"Status\", \"Year\"], axis=1)\n",
    "\n",
    "for q in query_developed.axes[1]:\n",
    "    box = plt.boxplot([query_developed[q], query_undeveloped[q]], tick_labels=[q, q])\n",
    "    plt.show()\n",
    "\n",
    "    for d in range(0,2):\n",
    "        outliers_length = len(box[\"fliers\"][d].get_ydata())\n",
    "        data_length = len(query_developed[q])\n",
    "        if d == 0:\n",
    "            print(f\"DEVELOPED   - Outliers per data: {100*(outliers_length/data_length):.2f}%\")\n",
    "        else:\n",
    "            print(f\"UNDEVELOPED - Outliers per data: {100*(outliers_length/data_length):.2f}%\")\n"
   ]
  },
  {
   "cell_type": "markdown",
   "metadata": {
    "id": "Q1H8ctFi5XxX"
   },
   "source": [
    "---"
   ]
  },
  {
   "cell_type": "markdown",
   "metadata": {
    "id": "_XePH56X5XxX"
   },
   "source": [
    "##### **Discussion of key points**\n",
    "- How did the visualization help in understanding the data?\n",
    "- Looking at the mutual information plot, can you find features that seem uninfluential? (If so, consider removing them before proceeding!)"
   ]
  },
  {
   "cell_type": "markdown",
   "metadata": {
    "id": "h4M3qRBi5XxY"
   },
   "source": [
    "The box plots analysis showed that the data has many outliers. MSE is, thus, not the best suit for the cost function since it may fit the model to them instead of fitting it to the actual function that describes the dataset. With that in mind, MAE was chosen as the cost function because of its robustness to outliers, which should lead the model to a better fitting.\n",
    "\n",
    "In order to determinate which parameters held more importance, correlations (shown in the heat map above) and the feature importance were used. Both measures were made against Life Expectancy, hoping they should reveal the level of influence they shared with it. Since the population from both developed and undeveloped countries showed almost no difference (see box plots) and the correlation coefficient of it against Life Expectancy was so close to zero, it was cut out of the dataset. Another information which were cut was the Year, since patterns such as “countries whose data was collected in year X had higher Life Expectancy than those which data was collected in year Y” would generate unreliable predictions."
   ]
  },
  {
   "cell_type": "markdown",
   "metadata": {
    "id": "G5agLl-x5XxY"
   },
   "source": [
    "##### **Implement and train a Linear Regressor**\n",
    "\n",
    "$({2.5} \\space points)$\n",
    "\n",
    "Complete the implementation of the `MyLinearRegressor` class and the `MSE` metric below. No machine learning libraries are allowed for these.\n",
    "\n",
    "Evaluate performance using Mean Squared Error ($MSE$), Mean Absolute Error ($MAE$), and Coefficient of Determination ($R^{2}$) from [`torchmetrics`](https://lightning.ai/docs/torchmetrics/stable/).\n",
    "\n",
    "*P.S.: You don't need to build anything using Lightning to implement the metrics from TorchMetrics.*"
   ]
  },
  {
   "cell_type": "code",
   "execution_count": 10,
   "metadata": {
    "id": "A76LwPnu5XxY"
   },
   "outputs": [
    {
     "data": {
      "image/png": "[encoded data removed]",
      "text/plain": [
       "<Figure size 640x480 with 1 Axes>"
      ]
     },
     "metadata": {},
     "output_type": "display_data"
    },
    {
     "name": "stdout",
     "output_type": "stream",
     "text": [
      "(TRAIN) Manual MSE: 0.1903, MAE: 0.3237, R^2: 0.8096\n",
      "(TEST) Manual MSE: 0.2116, MAE: 0.3350, R^2: 0.8008\n"
     ]
    }
   ],
   "source": [
    "import math\n",
    "\n",
    "def RSS(y, y_pred):\n",
    "    sum = 0\n",
    "    for i in range(len(y)):\n",
    "        sum += (y[i] - y_pred[i]) ** 2\n",
    "    return sum\n",
    "\n",
    "def average(y):\n",
    "    sum = 0\n",
    "    for i in range(len(y)):\n",
    "        sum += y[i]\n",
    "    return sum / len(y)\n",
    "\n",
    "def TSS(y):\n",
    "    sum = 0\n",
    "    y_average = average(y)\n",
    "    for i in range(len(y)):\n",
    "        sum += (y[i] - y_average) ** 2\n",
    "    return sum\n",
    "\n",
    "def RSE(y, y_pred):\n",
    "    return math.sqrt(1 / (len(y) - 2) * RSS(y, y_pred))\n",
    "\n",
    "# TASK: MSE. You cannot use machine learning libraries for this!!\n",
    "# Mean Squared Error (MSE)\n",
    "def MSE(y, y_pred):\n",
    "    sum = 0\n",
    "    for i in range(len(y)):\n",
    "        sum += (y[i] - y_pred[i]) ** 2\n",
    "    return float(1 / len(y) * sum)\n",
    "\n",
    "# TASK: MAE. You cannot use machine learning libraries for this!!\n",
    "# Mean Absolute Error (MAE)\n",
    "def MAE(y, y_pred):\n",
    "    sum = 0\n",
    "    for i in range(len(y)):\n",
    "        sum += abs(float(y[i]) - y_pred[i])\n",
    "    return float(1 / len(y) * sum)\n",
    "\n",
    "# TASK: R^2. You cannot use machine learning libraries for this!!\n",
    "# Coefficient of Determination (R^2)\n",
    "def R2(y, y_pred):\n",
    "    return float(1 - (RSS(y, y_pred) / TSS(y)))\n",
    "\n",
    "# Custom Linear Regression class (manual implementation)\n",
    "class MyLinearRegressor:\n",
    "    def __init__(self, learning_rate=0.01, max_iter=1000):\n",
    "        self.max_iter = max_iter\n",
    "        self.learning_rate = learning_rate\n",
    "        self.weights = None\n",
    "        self.bias = None\n",
    "\n",
    "    def fit(self, X, y, plot=False):\n",
    "        # Initialize weights and bias to zeros\n",
    "        n_samples, n_features = X.shape\n",
    "        self.weights = torch.zeros(n_features, 1, dtype=torch.float32)\n",
    "        self.bias = torch.zeros(1, dtype=torch.float32)\n",
    "        losses = []\n",
    "\n",
    "        # Gradient descent loop\n",
    "        for epoch in range(self.max_iter):\n",
    "            y_pred = self.predict(X)\n",
    "            if epoch % 10 == 0:\n",
    "                losses.append(MSE(y, y_pred))\n",
    "            grad_w = (2 / n_samples) * X.T @ (y_pred - y)\n",
    "            grad_b = (2 / n_samples) * torch.sum(y_pred - y)\n",
    "            \n",
    "            # Update weights and bias by stepping in the opposite direction of the gradient\n",
    "            self.weights -= self.learning_rate * grad_w\n",
    "            self.bias -= self.learning_rate * grad_b\n",
    "\n",
    "        if plot:\n",
    "            plt.plot(range(len(losses)), losses)\n",
    "            plt.show()\n",
    "\n",
    "    def predict(self, X):\n",
    "        # Linear equation: y = X * weights + bias\n",
    "        return X @ self.weights + self.bias\n",
    "\n",
    "# Remove irrelevant features (YEAR, POPULATION) for the manual regressor\n",
    "X = torch.tensor(df.drop([\"Life expectancy\", \"Year\", \"Population\"], axis=1).values, dtype=torch.float32)\n",
    "X_train, X_test, y_train, y_test, X_train_mean, X_train_std, y_train_mean, y_train_std = split_sets(X, y)\n",
    "\n",
    "# Train the manual regressor on the training data\n",
    "regressor = MyLinearRegressor(learning_rate=0.01, max_iter=1000)\n",
    "regressor.fit(X_train, y_train, plot=True)\n",
    "y_pred_manual = regressor.predict(X_train)\n",
    "\n",
    "mse_manual = MSE(y_train,y_pred_manual)\n",
    "mae_manual = MAE(y_train,y_pred_manual)\n",
    "r2_manual = R2(y_train, y_pred_manual)\n",
    "print(f\"(TRAIN) Manual MSE: {mse_manual:.4f}, MAE: {mae_manual:.4f}, R^2: {r2_manual:.4f}\")\n",
    "\n",
    "\n",
    "y_pred_manual = regressor.predict(X_test)\n",
    "# Calculate metrics for the manual regressor\n",
    "mse_manual = MSE(y_test, y_pred_manual)\n",
    "mae_manual = MAE(y_test, y_pred_manual)\n",
    "r2_manual = R2(y_test, y_pred_manual)\n",
    "print(f\"(TEST) Manual MSE: {mse_manual:.4f}, MAE: {mae_manual:.4f}, R^2: {r2_manual:.4f}\")"
   ]
  },
  {
   "cell_type": "markdown",
   "metadata": {
    "id": "8P9cIBfB5XxZ"
   },
   "source": [
    "#### **Discussion of key points**\n",
    "- Which of the proposed metrics $(MSE, MAE, R^{2})$ is best for this problem? Why?\n",
    "- Did your Linear Regressor accurately estimate life expectancy? Justify using a metric.\n",
    "- What do you think is the biggest error type in your model: variance or bias?"
   ]
  },
  {
   "cell_type": "markdown",
   "metadata": {
    "id": "hS-sNUpv5XxZ"
   },
   "source": [
    "MSE was chosen as the cost function because it is differentiable on all points, which is not true for MAE -- since the derivative of the modular function is not defined in 0. The inherent vulnerability the MSE metric has with datasets with multiple outliers is not a problem while searching for the optimized version of the predictor, since it shall only punish the prediction a bit harsher due to their interference. However, it is best to use MAE to assert the model accuracy since it is more robust to outlier interference and, thus, provides a better measurement of the model's performance.\n",
    "\n",
    "The MAE score for our model was 0.34, which is far from 1 and proof that the model is not at random. Besides, the proximity between train MAE and test MAE suggest that the model is neither over nor underfitting.\n",
    "\n",
    "The dataset variance is the bigger error in our model, since the dataset has plenty of outliers and the model is not overfitting."
   ]
  },
  {
   "cell_type": "markdown",
   "metadata": {
    "id": "Zc4VmYwT5Xxa"
   },
   "source": [
    "##### **Compare with PyTorch Linear Regression**\n",
    "\n",
    "$({0.5} \\space point)$\n",
    "\n",
    "Train a PyTorch-based linear regression model and compare it with your manual implementation."
   ]
  },
  {
   "cell_type": "code",
   "execution_count": 11,
   "metadata": {
    "id": "XgazDLOQ5Xxa"
   },
   "outputs": [],
   "source": [
    "# PyTorch-based Linear Regression class\n",
    "class LinearRegression(nn.Module):\n",
    "    def __init__(self, input_dim):\n",
    "        super(LinearRegression, self).__init__()\n",
    "        self.linear = nn.Linear(input_dim, 1)\n",
    "\n",
    "    def forward(self, x):\n",
    "        return self.linear(x)\n",
    "\n",
    "# Initialize model\n",
    "model = LinearRegression(X.shape[1])\n",
    "optimizer = torch.optim.SGD(model.parameters(), lr=0.01) # Stochastic Gradient Descent\n",
    "criterion = nn.MSELoss() # Mean Squared Error loss function\n",
    "\n",
    "# Training loop for PyTorch model\n",
    "for epoch in range(1000):\n",
    "    optimizer.zero_grad()\n",
    "    outputs = model(X_train)\n",
    "    loss = criterion(outputs, y_train)\n",
    "    loss.backward()\n",
    "    optimizer.step()\n",
    "\n",
    "# Predict with the trained PyTorch model (no gradient tracking)\n",
    "with torch.no_grad():\n",
    "    y_pred_pytorch = model(X_test)"
   ]
  },
  {
   "cell_type": "code",
   "execution_count": 12,
   "metadata": {
    "id": "_XyVkGbE5Xxb"
   },
   "outputs": [
    {
     "name": "stdout",
     "output_type": "stream",
     "text": [
      "Manual - MSE: 0.2116, MAE: 0.3350, R2: 0.8008\n",
      "PyTorch - MSE: 0.2118, MAE: 0.3355, R2: 0.8006\n"
     ]
    }
   ],
   "source": [
    "# Define evaluation metrics from torchmetrics for comparison\n",
    "mse = MeanSquaredError()\n",
    "mae = MeanAbsoluteError()\n",
    "r2 = R2Score()\n",
    "\n",
    "# Evaluate the manual regressor\n",
    "mse_manual = mse(y_pred_manual, y_test)\n",
    "mae_manual = mae(y_pred_manual, y_test)\n",
    "r2_manual = r2(y_pred_manual, y_test)\n",
    "\n",
    "# Evaluate the PyTorch model\n",
    "mse_pytorch = mse(y_pred_pytorch, y_test)\n",
    "mae_pytorch = mae(y_pred_pytorch, y_test)\n",
    "r2_pytorch = r2(y_pred_pytorch, y_test)\n",
    "\n",
    "# Print results for comparison\n",
    "print(f\"Manual - MSE: {mse_manual:.4f}, MAE: {mae_manual:.4f}, R2: {r2_manual:.4f}\")\n",
    "print(f\"PyTorch - MSE: {mse_pytorch:.4f}, MAE: {mae_pytorch:.4f}, R2: {r2_pytorch:.4f}\")"
   ]
  },
  {
   "cell_type": "markdown",
   "metadata": {
    "id": "wwKbay9F5Xxb"
   },
   "source": [
    "#### **Find interaction terms**\n",
    "\n",
    "$({0.5} \\space point)$\n",
    "\n",
    "Search for interactions between columns (e.g., multiply `Alcohol` and `BMI`) that might improve the model. Use [`mutual_info_regression`](https://scikit-learn.org/stable/modules/generated/sklearn.feature_selection.mutual_info_regression.html) to test if new features have higher mutual information with the target. Retrain your manual regressor with these features."
   ]
  },
  {
   "cell_type": "code",
   "execution_count": 68,
   "metadata": {},
   "outputs": [
    {
     "data": {
      "application/vnd.plotly.v1+json": {
       "config": {
        "plotlyServerURL": "https://plot.ly"
       },
       "data": [
        {
         "hovertemplate": "Schooling=%{x}<br>Income composition of resources=%{y}<br>Life expectancy=%{marker.color}<extra></extra>",
         "legendgroup": "",
         "marker": {
          "color": {
           "bdata": "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",
           "dtype": "f8"
          },
          "coloraxis": "coloraxis",
          "symbol": "circle"
         },
         "mode": "markers",
         "name": "",
         "scene": "scene",
         "showlegend": false,
         "type": "scatter3d",
         "x": {
          "bdata": "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",
          "dtype": "f8"
         },
         "y": {
          "bdata": "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",
          "dtype": "f8"
         },
         "z": {
          "bdata": "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",
          "dtype": "f8"
         }
        }
       ],
       "layout": {
        "coloraxis": {
         "colorbar": {
          "title": {
           "text": "Life expectancy"
          }
         },
         "colorscale": [
          [
           0,
           "#0d0887"
          ],
          [
           0.1111111111111111,
           "#46039f"
          ],
          [
           0.2222222222222222,
           "#7201a8"
          ],
          [
           0.3333333333333333,
           "#9c179e"
          ],
          [
           0.4444444444444444,
           "#bd3786"
          ],
          [
           0.5555555555555556,
           "#d8576b"
          ],
          [
           0.6666666666666666,
           "#ed7953"
          ],
          [
           0.7777777777777778,
           "#fb9f3a"
          ],
          [
           0.8888888888888888,
           "#fdca26"
          ],
          [
           1,
           "#f0f921"
          ]
         ]
        },
        "legend": {
         "tracegroupgap": 0
        },
        "scene": {
         "domain": {
          "x": [
           0,
           1
          ],
          "y": [
           0,
           1
          ]
         },
         "xaxis": {
          "title": {
           "text": "Schooling"
          }
         },
         "yaxis": {
          "title": {
           "text": "Income composition of resources"
          }
         },
         "zaxis": {
          "title": {
           "text": "Life expectancy"
          }
         }
        },
        "template": {
         "data": {
          "bar": [
           {
            "error_x": {
             "color": "#2a3f5f"
            },
            "error_y": {
             "color": "#2a3f5f"
            },
            "marker": {
             "line": {
              "color": "#E5ECF6",
              "width": 0.5
             },
             "pattern": {
              "fillmode": "overlay",
              "size": 10,
              "solidity": 0.2
             }
            },
            "type": "bar"
           }
          ],
          "barpolar": [
           {
            "marker": {
             "line": {
              "color": "#E5ECF6",
              "width": 0.5
             },
             "pattern": {
              "fillmode": "overlay",
              "size": 10,
              "solidity": 0.2
             }
            },
            "type": "barpolar"
           }
          ],
          "carpet": [
           {
            "aaxis": {
             "endlinecolor": "#2a3f5f",
             "gridcolor": "white",
             "linecolor": "white",
             "minorgridcolor": "white",
             "startlinecolor": "#2a3f5f"
            },
            "baxis": {
             "endlinecolor": "#2a3f5f",
             "gridcolor": "white",
             "linecolor": "white",
             "minorgridcolor": "white",
             "startlinecolor": "#2a3f5f"
            },
            "type": "carpet"
           }
          ],
          "choropleth": [
           {
            "colorbar": {
             "outlinewidth": 0,
             "ticks": ""
            },
            "type": "choropleth"
           }
          ],
          "contour": [
           {
            "colorbar": {
             "outlinewidth": 0,
             "ticks": ""
            },
            "colorscale": [
             [
              0,
              "#0d0887"
             ],
             [
              0.1111111111111111,
              "#46039f"
             ],
             [
              0.2222222222222222,
              "#7201a8"
             ],
             [
              0.3333333333333333,
              "#9c179e"
             ],
             [
              0.4444444444444444,
              "#bd3786"
             ],
             [
              0.5555555555555556,
              "#d8576b"
             ],
             [
              0.6666666666666666,
              "#ed7953"
             ],
             [
              0.7777777777777778,
              "#fb9f3a"
             ],
             [
              0.8888888888888888,
              "#fdca26"
             ],
             [
              1,
              "#f0f921"
             ]
            ],
            "type": "contour"
           }
          ],
          "contourcarpet": [
           {
            "colorbar": {
             "outlinewidth": 0,
             "ticks": ""
            },
            "type": "contourcarpet"
           }
          ],
          "heatmap": [
           {
            "colorbar": {
             "outlinewidth": 0,
             "ticks": ""
            },
            "colorscale": [
             [
              0,
              "#0d0887"
             ],
             [
              0.1111111111111111,
              "#46039f"
             ],
             [
              0.2222222222222222,
              "#7201a8"
             ],
             [
              0.3333333333333333,
              "#9c179e"
             ],
             [
              0.4444444444444444,
              "#bd3786"
             ],
             [
              0.5555555555555556,
              "#d8576b"
             ],
             [
              0.6666666666666666,
              "#ed7953"
             ],
             [
              0.7777777777777778,
              "#fb9f3a"
             ],
             [
              0.8888888888888888,
              "#fdca26"
             ],
             [
              1,
              "#f0f921"
             ]
            ],
            "type": "heatmap"
           }
          ],
          "histogram": [
           {
            "marker": {
             "pattern": {
              "fillmode": "overlay",
              "size": 10,
              "solidity": 0.2
             }
            },
            "type": "histogram"
           }
          ],
          "histogram2d": [
           {
            "colorbar": {
             "outlinewidth": 0,
             "ticks": ""
            },
            "colorscale": [
             [
              0,
              "#0d0887"
             ],
             [
              0.1111111111111111,
              "#46039f"
             ],
             [
              0.2222222222222222,
              "#7201a8"
             ],
             [
              0.3333333333333333,
              "#9c179e"
             ],
             [
              0.4444444444444444,
              "#bd3786"
             ],
             [
              0.5555555555555556,
              "#d8576b"
             ],
             [
              0.6666666666666666,
              "#ed7953"
             ],
             [
              0.7777777777777778,
              "#fb9f3a"
             ],
             [
              0.8888888888888888,
              "#fdca26"
             ],
             [
              1,
              "#f0f921"
             ]
            ],
            "type": "histogram2d"
           }
          ],
          "histogram2dcontour": [
           {
            "colorbar": {
             "outlinewidth": 0,
             "ticks": ""
            },
            "colorscale": [
             [
              0,
              "#0d0887"
             ],
             [
              0.1111111111111111,
              "#46039f"
             ],
             [
              0.2222222222222222,
              "#7201a8"
             ],
             [
              0.3333333333333333,
              "#9c179e"
             ],
             [
              0.4444444444444444,
              "#bd3786"
             ],
             [
              0.5555555555555556,
              "#d8576b"
             ],
             [
              0.6666666666666666,
              "#ed7953"
             ],
             [
              0.7777777777777778,
              "#fb9f3a"
             ],
             [
              0.8888888888888888,
              "#fdca26"
             ],
             [
              1,
              "#f0f921"
             ]
            ],
            "type": "histogram2dcontour"
           }
          ],
          "mesh3d": [
           {
            "colorbar": {
             "outlinewidth": 0,
             "ticks": ""
            },
            "type": "mesh3d"
           }
          ],
          "parcoords": [
           {
            "line": {
             "colorbar": {
              "outlinewidth": 0,
              "ticks": ""
             }
            },
            "type": "parcoords"
           }
          ],
          "pie": [
           {
            "automargin": true,
            "type": "pie"
           }
          ],
          "scatter": [
           {
            "fillpattern": {
             "fillmode": "overlay",
             "size": 10,
             "solidity": 0.2
            },
            "type": "scatter"
           }
          ],
          "scatter3d": [
           {
            "line": {
             "colorbar": {
              "outlinewidth": 0,
              "ticks": ""
             }
            },
            "marker": {
             "colorbar": {
              "outlinewidth": 0,
              "ticks": ""
             }
            },
            "type": "scatter3d"
           }
          ],
          "scattercarpet": [
           {
            "marker": {
             "colorbar": {
              "outlinewidth": 0,
              "ticks": ""
             }
            },
            "type": "scattercarpet"
           }
          ],
          "scattergeo": [
           {
            "marker": {
             "colorbar": {
              "outlinewidth": 0,
              "ticks": ""
             }
            },
            "type": "scattergeo"
           }
          ],
          "scattergl": [
           {
            "marker": {
             "colorbar": {
              "outlinewidth": 0,
              "ticks": ""
             }
            },
            "type": "scattergl"
           }
          ],
          "scattermap": [
           {
            "marker": {
             "colorbar": {
              "outlinewidth": 0,
              "ticks": ""
             }
            },
            "type": "scattermap"
           }
          ],
          "scattermapbox": [
           {
            "marker": {
             "colorbar": {
              "outlinewidth": 0,
              "ticks": ""
             }
            },
            "type": "scattermapbox"
           }
          ],
          "scatterpolar": [
           {
            "marker": {
             "colorbar": {
              "outlinewidth": 0,
              "ticks": ""
             }
            },
            "type": "scatterpolar"
           }
          ],
          "scatterpolargl": [
           {
            "marker": {
             "colorbar": {
              "outlinewidth": 0,
              "ticks": ""
             }
            },
            "type": "scatterpolargl"
           }
          ],
          "scatterternary": [
           {
            "marker": {
             "colorbar": {
              "outlinewidth": 0,
              "ticks": ""
             }
            },
            "type": "scatterternary"
           }
          ],
          "surface": [
           {
            "colorbar": {
             "outlinewidth": 0,
             "ticks": ""
            },
            "colorscale": [
             [
              0,
              "#0d0887"
             ],
             [
              0.1111111111111111,
              "#46039f"
             ],
             [
              0.2222222222222222,
              "#7201a8"
             ],
             [
              0.3333333333333333,
              "#9c179e"
             ],
             [
              0.4444444444444444,
              "#bd3786"
             ],
             [
              0.5555555555555556,
              "#d8576b"
             ],
             [
              0.6666666666666666,
              "#ed7953"
             ],
             [
              0.7777777777777778,
              "#fb9f3a"
             ],
             [
              0.8888888888888888,
              "#fdca26"
             ],
             [
              1,
              "#f0f921"
             ]
            ],
            "type": "surface"
           }
          ],
          "table": [
           {
            "cells": {
             "fill": {
              "color": "#EBF0F8"
             },
             "line": {
              "color": "white"
             }
            },
            "header": {
             "fill": {
              "color": "#C8D4E3"
             },
             "line": {
              "color": "white"
             }
            },
            "type": "table"
           }
          ]
         },
         "layout": {
          "annotationdefaults": {
           "arrowcolor": "#2a3f5f",
           "arrowhead": 0,
           "arrowwidth": 1
          },
          "autotypenumbers": "strict",
          "coloraxis": {
           "colorbar": {
            "outlinewidth": 0,
            "ticks": ""
           }
          },
          "colorscale": {
           "diverging": [
            [
             0,
             "#8e0152"
            ],
            [
             0.1,
             "#c51b7d"
            ],
            [
             0.2,
             "#de77ae"
            ],
            [
             0.3,
             "#f1b6da"
            ],
            [
             0.4,
             "#fde0ef"
            ],
            [
             0.5,
             "#f7f7f7"
            ],
            [
             0.6,
             "#e6f5d0"
            ],
            [
             0.7,
             "#b8e186"
            ],
            [
             0.8,
             "#7fbc41"
            ],
            [
             0.9,
             "#4d9221"
            ],
            [
             1,
             "#276419"
            ]
           ],
           "sequential": [
            [
             0,
             "#0d0887"
            ],
            [
             0.1111111111111111,
             "#46039f"
            ],
            [
             0.2222222222222222,
             "#7201a8"
            ],
            [
             0.3333333333333333,
             "#9c179e"
            ],
            [
             0.4444444444444444,
             "#bd3786"
            ],
            [
             0.5555555555555556,
             "#d8576b"
            ],
            [
             0.6666666666666666,
             "#ed7953"
            ],
            [
             0.7777777777777778,
             "#fb9f3a"
            ],
            [
             0.8888888888888888,
             "#fdca26"
            ],
            [
             1,
             "#f0f921"
            ]
           ],
           "sequentialminus": [
            [
             0,
             "#0d0887"
            ],
            [
             0.1111111111111111,
             "#46039f"
            ],
            [
             0.2222222222222222,
             "#7201a8"
            ],
            [
             0.3333333333333333,
             "#9c179e"
            ],
            [
             0.4444444444444444,
             "#bd3786"
            ],
            [
             0.5555555555555556,
             "#d8576b"
            ],
            [
             0.6666666666666666,
             "#ed7953"
            ],
            [
             0.7777777777777778,
             "#fb9f3a"
            ],
            [
             0.8888888888888888,
             "#fdca26"
            ],
            [
             1,
             "#f0f921"
            ]
           ]
          },
          "colorway": [
           "#636efa",
           "#EF553B",
           "#00cc96",
           "#ab63fa",
           "#FFA15A",
           "#19d3f3",
           "#FF6692",
           "#B6E880",
           "#FF97FF",
           "#FECB52"
          ],
          "font": {
           "color": "#2a3f5f"
          },
          "geo": {
           "bgcolor": "white",
           "lakecolor": "white",
           "landcolor": "#E5ECF6",
           "showlakes": true,
           "showland": true,
           "subunitcolor": "white"
          },
          "hoverlabel": {
           "align": "left"
          },
          "hovermode": "closest",
          "mapbox": {
           "style": "light"
          },
          "paper_bgcolor": "white",
          "plot_bgcolor": "#E5ECF6",
          "polar": {
           "angularaxis": {
            "gridcolor": "white",
            "linecolor": "white",
            "ticks": ""
           },
           "bgcolor": "#E5ECF6",
           "radialaxis": {
            "gridcolor": "white",
            "linecolor": "white",
            "ticks": ""
           }
          },
          "scene": {
           "xaxis": {
            "backgroundcolor": "#E5ECF6",
            "gridcolor": "white",
            "gridwidth": 2,
            "linecolor": "white",
            "showbackground": true,
            "ticks": "",
            "zerolinecolor": "white"
           },
           "yaxis": {
            "backgroundcolor": "#E5ECF6",
            "gridcolor": "white",
            "gridwidth": 2,
            "linecolor": "white",
            "showbackground": true,
            "ticks": "",
            "zerolinecolor": "white"
           },
           "zaxis": {
            "backgroundcolor": "#E5ECF6",
            "gridcolor": "white",
            "gridwidth": 2,
            "linecolor": "white",
            "showbackground": true,
            "ticks": "",
            "zerolinecolor": "white"
           }
          },
          "shapedefaults": {
           "line": {
            "color": "#2a3f5f"
           }
          },
          "ternary": {
           "aaxis": {
            "gridcolor": "white",
            "linecolor": "white",
            "ticks": ""
           },
           "baxis": {
            "gridcolor": "white",
            "linecolor": "white",
            "ticks": ""
           },
           "bgcolor": "#E5ECF6",
           "caxis": {
            "gridcolor": "white",
            "linecolor": "white",
            "ticks": ""
           }
          },
          "title": {
           "x": 0.05
          },
          "xaxis": {
           "automargin": true,
           "gridcolor": "white",
           "linecolor": "white",
           "ticks": "",
           "title": {
            "standoff": 15
           },
           "zerolinecolor": "white",
           "zerolinewidth": 2
          },
          "yaxis": {
           "automargin": true,
           "gridcolor": "white",
           "linecolor": "white",
           "ticks": "",
           "title": {
            "standoff": 15
           },
           "zerolinecolor": "white",
           "zerolinewidth": 2
          }
         }
        },
        "title": {
         "text": "Schooling x Income composition of resources"
        }
       }
      }
     },
     "metadata": {},
     "output_type": "display_data"
    },
    {
     "data": {
      "application/vnd.plotly.v1+json": {
       "config": {
        "plotlyServerURL": "https://plot.ly"
       },
       "data": [
        {
         "hovertemplate": "Income composition of resources=%{x}<br>HIV/AIDS=%{y}<br>Life expectancy=%{marker.color}<extra></extra>",
         "legendgroup": "",
         "marker": {
          "color": {
           "bdata": "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",
           "dtype": "f8"
          },
          "coloraxis": "coloraxis",
          "symbol": "circle"
         },
         "mode": "markers",
         "name": "",
         "scene": "scene",
         "showlegend": false,
         "type": "scatter3d",
         "x": {
          "bdata": "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",
          "dtype": "f8"
         },
         "y": {
          "bdata": "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",
          "dtype": "f8"
         },
         "z": {
          "bdata": "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",
          "dtype": "f8"
         }
        }
       ],
       "layout": {
        "coloraxis": {
         "colorbar": {
          "title": {
           "text": "Life expectancy"
          }
         },
         "colorscale": [
          [
           0,
           "#0d0887"
          ],
          [
           0.1111111111111111,
           "#46039f"
          ],
          [
           0.2222222222222222,
           "#7201a8"
          ],
          [
           0.3333333333333333,
           "#9c179e"
          ],
          [
           0.4444444444444444,
           "#bd3786"
          ],
          [
           0.5555555555555556,
           "#d8576b"
          ],
          [
           0.6666666666666666,
           "#ed7953"
          ],
          [
           0.7777777777777778,
           "#fb9f3a"
          ],
          [
           0.8888888888888888,
           "#fdca26"
          ],
          [
           1,
           "#f0f921"
          ]
         ]
        },
        "legend": {
         "tracegroupgap": 0
        },
        "scene": {
         "domain": {
          "x": [
           0,
           1
          ],
          "y": [
           0,
           1
          ]
         },
         "xaxis": {
          "title": {
           "text": "Income composition of resources"
          }
         },
         "yaxis": {
          "title": {
           "text": "HIV/AIDS"
          }
         },
         "zaxis": {
          "title": {
           "text": "Life expectancy"
          }
         }
        },
        "template": {
         "data": {
          "bar": [
           {
            "error_x": {
             "color": "#2a3f5f"
            },
            "error_y": {
             "color": "#2a3f5f"
            },
            "marker": {
             "line": {
              "color": "#E5ECF6",
              "width": 0.5
             },
             "pattern": {
              "fillmode": "overlay",
              "size": 10,
              "solidity": 0.2
             }
            },
            "type": "bar"
           }
          ],
          "barpolar": [
           {
            "marker": {
             "line": {
              "color": "#E5ECF6",
              "width": 0.5
             },
             "pattern": {
              "fillmode": "overlay",
              "size": 10,
              "solidity": 0.2
             }
            },
            "type": "barpolar"
           }
          ],
          "carpet": [
           {
            "aaxis": {
             "endlinecolor": "#2a3f5f",
             "gridcolor": "white",
             "linecolor": "white",
             "minorgridcolor": "white",
             "startlinecolor": "#2a3f5f"
            },
            "baxis": {
             "endlinecolor": "#2a3f5f",
             "gridcolor": "white",
             "linecolor": "white",
             "minorgridcolor": "white",
             "startlinecolor": "#2a3f5f"
            },
            "type": "carpet"
           }
          ],
          "choropleth": [
           {
            "colorbar": {
             "outlinewidth": 0,
             "ticks": ""
            },
            "type": "choropleth"
           }
          ],
          "contour": [
           {
            "colorbar": {
             "outlinewidth": 0,
             "ticks": ""
            },
            "colorscale": [
             [
              0,
              "#0d0887"
             ],
             [
              0.1111111111111111,
              "#46039f"
             ],
             [
              0.2222222222222222,
              "#7201a8"
             ],
             [
              0.3333333333333333,
              "#9c179e"
             ],
             [
              0.4444444444444444,
              "#bd3786"
             ],
             [
              0.5555555555555556,
              "#d8576b"
             ],
             [
              0.6666666666666666,
              "#ed7953"
             ],
             [
              0.7777777777777778,
              "#fb9f3a"
             ],
             [
              0.8888888888888888,
              "#fdca26"
             ],
             [
              1,
              "#f0f921"
             ]
            ],
            "type": "contour"
           }
          ],
          "contourcarpet": [
           {
            "colorbar": {
             "outlinewidth": 0,
             "ticks": ""
            },
            "type": "contourcarpet"
           }
          ],
          "heatmap": [
           {
            "colorbar": {
             "outlinewidth": 0,
             "ticks": ""
            },
            "colorscale": [
             [
              0,
              "#0d0887"
             ],
             [
              0.1111111111111111,
              "#46039f"
             ],
             [
              0.2222222222222222,
              "#7201a8"
             ],
             [
              0.3333333333333333,
              "#9c179e"
             ],
             [
              0.4444444444444444,
              "#bd3786"
             ],
             [
              0.5555555555555556,
              "#d8576b"
             ],
             [
              0.6666666666666666,
              "#ed7953"
             ],
             [
              0.7777777777777778,
              "#fb9f3a"
             ],
             [
              0.8888888888888888,
              "#fdca26"
             ],
             [
              1,
              "#f0f921"
             ]
            ],
            "type": "heatmap"
           }
          ],
          "histogram": [
           {
            "marker": {
             "pattern": {
              "fillmode": "overlay",
              "size": 10,
              "solidity": 0.2
             }
            },
            "type": "histogram"
           }
          ],
          "histogram2d": [
           {
            "colorbar": {
             "outlinewidth": 0,
             "ticks": ""
            },
            "colorscale": [
             [
              0,
              "#0d0887"
             ],
             [
              0.1111111111111111,
              "#46039f"
             ],
             [
              0.2222222222222222,
              "#7201a8"
             ],
             [
              0.3333333333333333,
              "#9c179e"
             ],
             [
              0.4444444444444444,
              "#bd3786"
             ],
             [
              0.5555555555555556,
              "#d8576b"
             ],
             [
              0.6666666666666666,
              "#ed7953"
             ],
             [
              0.7777777777777778,
              "#fb9f3a"
             ],
             [
              0.8888888888888888,
              "#fdca26"
             ],
             [
              1,
              "#f0f921"
             ]
            ],
            "type": "histogram2d"
           }
          ],
          "histogram2dcontour": [
           {
            "colorbar": {
             "outlinewidth": 0,
             "ticks": ""
            },
            "colorscale": [
             [
              0,
              "#0d0887"
             ],
             [
              0.1111111111111111,
              "#46039f"
             ],
             [
              0.2222222222222222,
              "#7201a8"
             ],
             [
              0.3333333333333333,
              "#9c179e"
             ],
             [
              0.4444444444444444,
              "#bd3786"
             ],
             [
              0.5555555555555556,
              "#d8576b"
             ],
             [
              0.6666666666666666,
              "#ed7953"
             ],
             [
              0.7777777777777778,
              "#fb9f3a"
             ],
             [
              0.8888888888888888,
              "#fdca26"
             ],
             [
              1,
              "#f0f921"
             ]
            ],
            "type": "histogram2dcontour"
           }
          ],
          "mesh3d": [
           {
            "colorbar": {
             "outlinewidth": 0,
             "ticks": ""
            },
            "type": "mesh3d"
           }
          ],
          "parcoords": [
           {
            "line": {
             "colorbar": {
              "outlinewidth": 0,
              "ticks": ""
             }
            },
            "type": "parcoords"
           }
          ],
          "pie": [
           {
            "automargin": true,
            "type": "pie"
           }
          ],
          "scatter": [
           {
            "fillpattern": {
             "fillmode": "overlay",
             "size": 10,
             "solidity": 0.2
            },
            "type": "scatter"
           }
          ],
          "scatter3d": [
           {
            "line": {
             "colorbar": {
              "outlinewidth": 0,
              "ticks": ""
             }
            },
            "marker": {
             "colorbar": {
              "outlinewidth": 0,
              "ticks": ""
             }
            },
            "type": "scatter3d"
           }
          ],
          "scattercarpet": [
           {
            "marker": {
             "colorbar": {
              "outlinewidth": 0,
              "ticks": ""
             }
            },
            "type": "scattercarpet"
           }
          ],
          "scattergeo": [
           {
            "marker": {
             "colorbar": {
              "outlinewidth": 0,
              "ticks": ""
             }
            },
            "type": "scattergeo"
           }
          ],
          "scattergl": [
           {
            "marker": {
             "colorbar": {
              "outlinewidth": 0,
              "ticks": ""
             }
            },
            "type": "scattergl"
           }
          ],
          "scattermap": [
           {
            "marker": {
             "colorbar": {
              "outlinewidth": 0,
              "ticks": ""
             }
            },
            "type": "scattermap"
           }
          ],
          "scattermapbox": [
           {
            "marker": {
             "colorbar": {
              "outlinewidth": 0,
              "ticks": ""
             }
            },
            "type": "scattermapbox"
           }
          ],
          "scatterpolar": [
           {
            "marker": {
             "colorbar": {
              "outlinewidth": 0,
              "ticks": ""
             }
            },
            "type": "scatterpolar"
           }
          ],
          "scatterpolargl": [
           {
            "marker": {
             "colorbar": {
              "outlinewidth": 0,
              "ticks": ""
             }
            },
            "type": "scatterpolargl"
           }
          ],
          "scatterternary": [
           {
            "marker": {
             "colorbar": {
              "outlinewidth": 0,
              "ticks": ""
             }
            },
            "type": "scatterternary"
           }
          ],
          "surface": [
           {
            "colorbar": {
             "outlinewidth": 0,
             "ticks": ""
            },
            "colorscale": [
             [
              0,
              "#0d0887"
             ],
             [
              0.1111111111111111,
              "#46039f"
             ],
             [
              0.2222222222222222,
              "#7201a8"
             ],
             [
              0.3333333333333333,
              "#9c179e"
             ],
             [
              0.4444444444444444,
              "#bd3786"
             ],
             [
              0.5555555555555556,
              "#d8576b"
             ],
             [
              0.6666666666666666,
              "#ed7953"
             ],
             [
              0.7777777777777778,
              "#fb9f3a"
             ],
             [
              0.8888888888888888,
              "#fdca26"
             ],
             [
              1,
              "#f0f921"
             ]
            ],
            "type": "surface"
           }
          ],
          "table": [
           {
            "cells": {
             "fill": {
              "color": "#EBF0F8"
             },
             "line": {
              "color": "white"
             }
            },
            "header": {
             "fill": {
              "color": "#C8D4E3"
             },
             "line": {
              "color": "white"
             }
            },
            "type": "table"
           }
          ]
         },
         "layout": {
          "annotationdefaults": {
           "arrowcolor": "#2a3f5f",
           "arrowhead": 0,
           "arrowwidth": 1
          },
          "autotypenumbers": "strict",
          "coloraxis": {
           "colorbar": {
            "outlinewidth": 0,
            "ticks": ""
           }
          },
          "colorscale": {
           "diverging": [
            [
             0,
             "#8e0152"
            ],
            [
             0.1,
             "#c51b7d"
            ],
            [
             0.2,
             "#de77ae"
            ],
            [
             0.3,
             "#f1b6da"
            ],
            [
             0.4,
             "#fde0ef"
            ],
            [
             0.5,
             "#f7f7f7"
            ],
            [
             0.6,
             "#e6f5d0"
            ],
            [
             0.7,
             "#b8e186"
            ],
            [
             0.8,
             "#7fbc41"
            ],
            [
             0.9,
             "#4d9221"
            ],
            [
             1,
             "#276419"
            ]
           ],
           "sequential": [
            [
             0,
             "#0d0887"
            ],
            [
             0.1111111111111111,
             "#46039f"
            ],
            [
             0.2222222222222222,
             "#7201a8"
            ],
            [
             0.3333333333333333,
             "#9c179e"
            ],
            [
             0.4444444444444444,
             "#bd3786"
            ],
            [
             0.5555555555555556,
             "#d8576b"
            ],
            [
             0.6666666666666666,
             "#ed7953"
            ],
            [
             0.7777777777777778,
             "#fb9f3a"
            ],
            [
             0.8888888888888888,
             "#fdca26"
            ],
            [
             1,
             "#f0f921"
            ]
           ],
           "sequentialminus": [
            [
             0,
             "#0d0887"
            ],
            [
             0.1111111111111111,
             "#46039f"
            ],
            [
             0.2222222222222222,
             "#7201a8"
            ],
            [
             0.3333333333333333,
             "#9c179e"
            ],
            [
             0.4444444444444444,
             "#bd3786"
            ],
            [
             0.5555555555555556,
             "#d8576b"
            ],
            [
             0.6666666666666666,
             "#ed7953"
            ],
            [
             0.7777777777777778,
             "#fb9f3a"
            ],
            [
             0.8888888888888888,
             "#fdca26"
            ],
            [
             1,
             "#f0f921"
            ]
           ]
          },
          "colorway": [
           "#636efa",
           "#EF553B",
           "#00cc96",
           "#ab63fa",
           "#FFA15A",
           "#19d3f3",
           "#FF6692",
           "#B6E880",
           "#FF97FF",
           "#FECB52"
          ],
          "font": {
           "color": "#2a3f5f"
          },
          "geo": {
           "bgcolor": "white",
           "lakecolor": "white",
           "landcolor": "#E5ECF6",
           "showlakes": true,
           "showland": true,
           "subunitcolor": "white"
          },
          "hoverlabel": {
           "align": "left"
          },
          "hovermode": "closest",
          "mapbox": {
           "style": "light"
          },
          "paper_bgcolor": "white",
          "plot_bgcolor": "#E5ECF6",
          "polar": {
           "angularaxis": {
            "gridcolor": "white",
            "linecolor": "white",
            "ticks": ""
           },
           "bgcolor": "#E5ECF6",
           "radialaxis": {
            "gridcolor": "white",
            "linecolor": "white",
            "ticks": ""
           }
          },
          "scene": {
           "xaxis": {
            "backgroundcolor": "#E5ECF6",
            "gridcolor": "white",
            "gridwidth": 2,
            "linecolor": "white",
            "showbackground": true,
            "ticks": "",
            "zerolinecolor": "white"
           },
           "yaxis": {
            "backgroundcolor": "#E5ECF6",
            "gridcolor": "white",
            "gridwidth": 2,
            "linecolor": "white",
            "showbackground": true,
            "ticks": "",
            "zerolinecolor": "white"
           },
           "zaxis": {
            "backgroundcolor": "#E5ECF6",
            "gridcolor": "white",
            "gridwidth": 2,
            "linecolor": "white",
            "showbackground": true,
            "ticks": "",
            "zerolinecolor": "white"
           }
          },
          "shapedefaults": {
           "line": {
            "color": "#2a3f5f"
           }
          },
          "ternary": {
           "aaxis": {
            "gridcolor": "white",
            "linecolor": "white",
            "ticks": ""
           },
           "baxis": {
            "gridcolor": "white",
            "linecolor": "white",
            "ticks": ""
           },
           "bgcolor": "#E5ECF6",
           "caxis": {
            "gridcolor": "white",
            "linecolor": "white",
            "ticks": ""
           }
          },
          "title": {
           "x": 0.05
          },
          "xaxis": {
           "automargin": true,
           "gridcolor": "white",
           "linecolor": "white",
           "ticks": "",
           "title": {
            "standoff": 15
           },
           "zerolinecolor": "white",
           "zerolinewidth": 2
          },
          "yaxis": {
           "automargin": true,
           "gridcolor": "white",
           "linecolor": "white",
           "ticks": "",
           "title": {
            "standoff": 15
           },
           "zerolinecolor": "white",
           "zerolinewidth": 2
          }
         }
        },
        "title": {
         "text": "Income composition of resources x HIV/AIDS"
        }
       }
      }
     },
     "metadata": {},
     "output_type": "display_data"
    },
    {
     "data": {
      "application/vnd.plotly.v1+json": {
       "config": {
        "plotlyServerURL": "https://plot.ly"
       },
       "data": [
        {
         "hovertemplate": "Schooling=%{x}<br>HIV/AIDS=%{y}<br>Life expectancy=%{marker.color}<extra></extra>",
         "legendgroup": "",
         "marker": {
          "color": {
           "bdata": "AAAAAADgU0BmZmZmZsZTQJqZmZmZuVNAMzMzMzOTU0BmZmZmZoZTQAAAAAAAYFNAzczMzMxMU0AAAAAAACBTQGZmZmZmJlNAzczMzMwMU0AAAAAAAABTQM3MzMzMTFFAMzMzMzMzUUAzMzMzMzNRQM3MzMzMLFFAAAAAAAAgUUAzMzMzMxNRQGZmZmZmBlFAAAAAAAAAUUBmZmZmZuZQQGZmZmZm5lBAmpmZmZnZUEBmZmZmZsZQQDMzMzMzs1BAAAAAAACgUEDNzMzMzIxQQDMzMzMzc1BAAAAAAACAS0BmZmZmZiZLQJqZmZmZGUtAzczMzMyMSkDNzMzMzIxKQDMzMzMzM0pAmpmZmZkZSkAzMzMzM/NJQAAAAAAAwElAAAAAAADASUDNzMzMzMxJQJqZmZmZmUlAzczMzMyMSUAAAAAAAABNQAAAAAAAgExAAAAAAACAS0AzMzMzM3NPQAAAAAAAAE9AAAAAAABAUUCamZmZmZlNQDMzMzMzc01AAAAAAAAATUAAAAAAAEBMQGZmZmZmpktAAAAAAABAS0AAAAAAAABLQGZmZmZm5kpAmpmZmZnZSkAAAAAAAABLQDMzMzMzc0tAAAAAAAAATEBmZmZmZqZMQGZmZmZmpkxAzczMzMxMTEAzMzMzMzNMQAAAAAAAAExAMzMzMzOzS0AAAAAAAIBLQGZmZmZmJktAzczMzMzMSkDNzMzMzIxKQAAAAAAAQEpAMzMzMzPzSUAzMzMzM7NJQAAAAAAAAE1AAAAAAAAASkDNzMzMzMxIQDMzMzMzc0hAMzMzMzOzVEBmZmZmZqZUQJqZmZmZmVRAAAAAAACAVEBmZmZmZoZUQJqZmZmZeVRAZmZmZmZmVEAzMzMzM1NUQAAAAAAAQFZAAAAAAAAAVkAAAAAAAEBUQAAAAAAAQFRAmpmZmZnZU0AAAAAAAOBTQJqZmZmZ2VNAZmZmZmbGU0CamZmZmblSQM3MzMzMrFJAZmZmZmamUkAAAAAAAKBSQAAAAAAAoFJAAAAAAACgUkAzMzMzM/NRQDMzMzMzE1JAzczMzMxsUkAzMzMzM3NSQM3MzMzMjFJAZmZmZmZGUUCamZmZmXlSQM3MzMzMbFJAzczMzMwsUkAAAAAAAOBRQGZmZmZmBlBAZmZmZmbmT0AAAAAAAMBPQJqZmZmZmU9AmpmZmZlZT0AAAAAAAEBPQAAAAAAAAE9AZmZmZmbmTkAzMzMzM7NOQAAAAAAAgE5AAAAAAADAUECamZmZmdlNQM3MzMzMzE1AMzMzMzOzTUAzMzMzM3NNQM3MzMzMTE1AZmZmZmbmUUCamZmZmdlRQM3MzMzMzFFAMzMzMzPTUUAAAAAAAABTQAAAAAAAQFJAAAAAAACAUUAzMzMzM3NRQAAAAAAAYFFAMzMzMzNTUUCamZmZmTlRQDMzMzMzE1FAAAAAAAAAUUCamZmZmflQQM3MzMzM7FBAmpmZmZnZUEAzMzMzM3NNQDMzMzMzM01AzczMzMzMTEAAAAAAAEBMQAAAAAAAgEtAzczMzMzMSkDNzMzMzExKQDMzMzMzs0lAAAAAAAAASUBmZmZmZuZHQAAAAAAAAEdAzczMzMzMRkAzMzMzM/NGQDMzMzMzM0dAzczMzMyMR0AzMzMzMzNIQJqZmZmZmVRAMzMzMzOTVECamZmZmXlUQM3MzMzMbFRAzczMzMxsVEAAAAAAAGBUQJqZmZmZWVRAZmZmZmZGVEAAAAAAAEBWQAAAAAAAAFZAAAAAAABAVUAAAAAAAMBUQAAAAAAAgFRAmpmZmZn5U0AzMzMzM/NTQGZmZmZm5lNAmpmZmZnZVEDNzMzMzMxUQAAAAAAAwFRAzczMzMysVEBmZmZmZqZUQDMzMzMzk1RAZmZmZmaGVEAAAAAAAIBUQM3MzMzMbFRAAAAAAABgVEBmZmZmZkZUQAAAAAAAQFRAAAAAAABAVUAAAAAAAABVQAAAAAAAgFRAzczMzMzsU0AAAAAAACBQQJqZmZmZGVBAzczMzMzMT0BmZmZmZmZPQM3MzMzM7FFAzczMzMxsUkAzMzMzM3NSQDMzMzMzc1JAMzMzMzNzUkDNzMzMzGxSQAAAAAAAYFJAzczMzMxMUkAAAAAAAEBSQDMzMzMzM1JAzczMzMwsUkBmZmZmZiZSQM3MzMzMbFFAZmZmZmZmUUAzMzMzM1NRQDMzMzMzM1FAZmZmZmYGUUAzMzMzM9NQQM3MzMzMrFBAmpmZmZmZUEBmZmZmZoZQQJqZmZmZeVBAAAAAAABgUECamZmZmXlQQM3MzMzMTFBAMzMzMzMTUEAAAAAAAABQQJqZmZmZ2U9AmpmZmZm5UkBmZmZmZqZSQAAAAAAAoFJAMzMzMzOTUkBmZmZmZoZSQJqZmZmZeVJAzczMzMxsUkAAAAAAAGBSQDMzMzMzU1JAAAAAAABAUkAAAAAAACBSQGZmZmZm5lFAzczMzMzsUUCamZmZmdlRQM3MzMzMzFFAZmZmZmbGUUDNzMzMzOxSQAAAAAAA4FJAMzMzMzPTUkBmZmZmZsZSQJqZmZmZuVJAzczMzMysUkCamZmZmZlSQM3MzMzMjFJAAAAAAABgUkDNzMzMzGxSQGZmZmZmZlJAAAAAAABgUkDNzMzMzExSQDMzMzMzM1JAZmZmZmZGUkBmZmZmZiZSQDMzMzMzE1FAAAAAAAAAUUDNzMzMzOxQQJqZmZmZ2VBAzczMzMzMUECamZmZmblQQGZmZmZmplBAzczMzMyMUEAzMzMzM3NQQJqZmZmZOVBAmpmZmZnZT0BmZmZmZiZPQAAAAAAAgE5AAAAAAAAAT0AzMzMzM7NNQJqZmZmZWU1AMzMzMzPzTUCamZmZmdlNQDMzMzMzs01AMzMzMzNzTUBmZmZmZiZNQDMzMzMzs0xAmpmZmZlZTECamZmZmRlMQDMzMzMz80tAmpmZmZnZS0AAAAAAAIBLQDMzMzMzc0tAmpmZmZlZS0CamZmZmVlLQM3MzMzMTEtAzczMzMxMS0AAAAAAAGBSQDMzMzMzU1JAzczMzMxMUkAAAAAAAEBSQJqZmZmZOVJAMzMzMzMzUkAAAAAAACBSQGZmZmZmJlJAAAAAAAAgUkCamZmZmRlSQDMzMzMzE1JAzczMzMwMUkAAAAAAAABSQJqZmZmZ+VFAMzMzMzPzUUBmZmZmZuZRQM3MzMzMzFFAZmZmZmbGUUAAAAAAAMBRQAAAAAAAgFNAAAAAAAAAU0AAAAAAAIBSQAAAAAAAwFFAmpmZmZl5UUDNzMzMzGxRQGZmZmZmZlFAAAAAAABgUUCamZmZmVlRQDMzMzMzU1FAzczMzMxMUUBmZmZmZkZRQGZmZmZmRlFAMzMzMzPTUkBmZmZmZsZSQJqZmZmZuVJAmpmZmZm5UkAzMzMzM7NSQDMzMzMzs1JAzczMzMysUkDNzMzMzKxSQGZmZmZmplJAmpmZmZmZUkDNzMzMzIxSQAAAAAAAgFJAzczMzMxsUkAAAAAAAGBSQM3MzMzMTFJAmpmZmZk5UkAzMzMzM/NSQAAAAAAA4FJAzczMzMzMUkAzMzMzM7NSQAAAAAAAoFJAzczMzMyMUkCamZmZmXlSQAAAAAAAYFJAzczMzMxMUkAzMzMzMzNSQJqZmZmZGVJAAAAAAAAAUkBmZmZmZuZRQM3MzMzMzFFAAAAAAACAU0AAAAAAAIBSQDMzMzMzk1BAAAAAAACAUECamZmZmVlQQGZmZmZmZlBAZmZmZmZmUEAzMzMzM3NQQGZmZmZmZlBAAAAAAAAgUEBmZmZmZgZQQJqZmZmZ2U9AZmZmZmamT0AAAAAAAMBPQDMzMzMzs09AZmZmZmamT0AAAAAAAABQQGZmZmZm5k9AZmZmZmYGUkBmZmZmZiZPQAAAAAAAwE5AAAAAAADAUEAAAAAAAABOQGZmZmZmpk1AMzMzMzMzTUAAAAAAAMBMQGZmZmZmJkxAAAAAAADAS0AzMzMzM3NLQJqZmZmZmUpAZmZmZmamSUAAAAAAAIBJQGZmZmZmZkhAmpmZmZnZR0DNzMzMzExHQDMzMzMz01FAAAAAAACAU0AAAAAAAMBRQAAAAAAAQFNAAAAAAADAUkAzMzMzM3NRQM3MzMzMTFFAzczMzMzsUEAAAAAAAOBQQM3MzMzM7FBAAAAAAADAUECamZmZmdlQQGZmZmZm5lBAZmZmZmbmUEDNzMzMzOxQQAAAAAAA4FBAZmZmZmZGU0CamZmZmTlTQM3MzMzMLFNAAAAAAAAgU0AzMzMzMxNTQM3MzMzMDFNAAAAAAAAAU0AzMzMzM/NSQGZmZmZm5lJAmpmZmZnZUkAzMzMzM9NSQGZmZmZmxlJAmpmZmZm5UkDNzMzMzKxSQAAAAAAAoFJAzczMzMyMUkDNzMzMzExUQAAAAAAAQFRAAAAAAADAVUAAAAAAAIBVQAAAAAAAgFVAAAAAAACAVEAAAAAAAEBUQGZmZmZm5lNAAAAAAADgU0AzMzMzM9NTQAAAAAAAwFNAMzMzMzOzU0AzMzMzM5NTQM3MzMzMjFNAAAAAAACAU0AzMzMzM3NTQGZmZmZm5k5AAAAAAADAUECamZmZmdlNQM3MzMzMTE1AZmZmZmYmTUAAAAAAAMBMQDMzMzMzc0xAmpmZmZkZTEAAAAAAAEBLQM3MzMzMjEpAmpmZmZkZSkAAAAAAAMBJQAAAAAAAAE1AAAAAAAAASkDNzMzMzMxIQJqZmZmZmUhAMzMzMzPTU0BmZmZmZsZTQJqZmZmZuVNAMzMzMzOzU0DNzMzMzKxTQM3MzMzMrFNAAAAAAACgU0DNzMzMzIxTQGZmZmZmhlNAMzMzMzNzU0AAAAAAAGBTQAAAAAAAYFNAzczMzMxMU0AAAAAAAEBTQJqZmZmZOVNAMzMzMzMzU0AAAAAAAEBTQDMzMzMzM1NAMzMzMzMzU0AAAAAAACBTQAAAAAAAQFNAMzMzMzMTU0BmZmZmZiZTQJqZmZmZGVNAmpmZmZnZUkDNzMzMzAxTQM3MzMzM7FJAmpmZmZnZUkCamZmZmdlSQJqZmZmZ2VJAzczMzMzMUkBmZmZmZsZSQJqZmZmZWVFAzczMzMxMUUBmZmZmZkZRQDMzMzMzM1FAAAAAAAAgUUAzMzMzMxNRQAAAAAAAAFFAmpmZmZn5UEAzMzMzM/NQQGZmZmZm5lBAMzMzMzPTUEAzMzMzM/NQQM3MzMzMzFBAZmZmZmbGUECamZmZmdlQQGZmZmZmxlBAAAAAAAAAUkDNzMzMzOxRQGZmZmZm5lFAmpmZmZnZUUDNzMzMzMxRQAAAAAAAwFFAAAAAAACAU0AAAAAAAMBSQAAAAAAAQFJAAAAAAADAUUCamZmZmXlRQGZmZmZmZlFAmpmZmZlZUUAzMzMzM1NRQGZmZmZmRlFAAAAAAABAUUBmZmZmZoZSQJqZmZmZeVJAMzMzMzNzUkDNzMzMzGxSQDMzMzMzc1JAzczMzMxsUkBmZmZmZmZSQM3MzMzMTFJAmpmZmZlZUkBmZmZmZmZSQGZmZmZmZlJAMzMzMzNTUkCamZmZmRlSQGZmZmZmRlJAAAAAAAAgUkAAAAAAACBSQAAAAAAAAFNAmpmZmZn5UkDNzMzMzOxSQGZmZmZm5lJAmpmZmZnZUkDNzMzMzMxSQAAAAAAAwFJAmpmZmZm5UkDNzMzMzKxSQGZmZmZmplJAmpmZmZmZUkDNzMzMzIxSQAAAAAAAgFJAMzMzMzNzUkBmZmZmZmZSQJqZmZmZWVJAzczMzMxsUECamZmZmVlQQJqZmZmZWVBAzczMzMwsUEBmZmZmZiZQQJqZmZmZGVBAZmZmZmYGUEBmZmZmZuZPQDMzMzMzs09AAAAAAACAT0DNzMzMzExPQJqZmZmZGU9AMzMzMzPzTkAAAAAAAMBOQM3MzMzMjE5AAAAAAAAAUUBmZmZmZuZOQM3MzMzMjE5AAAAAAACAT0CamZmZmZlNQJqZmZmZGU1AAAAAAAAATUAzMzMzM7NMQJqZmZmZ2UtAzczMzMxMSkAAAAAAAABNQGZmZmZmpkhAMzMzMzPzR0AzMzMzMzNHQAAAAAAAwEZAzczMzMxMRkBmZmZmZuZFQAAAAAAAwFBAmpmZmZmZTUAAAAAAAABNQM3MzMzMTExAMzMzMzNzS0AzMzMzMzNKQAAAAAAAAElAmpmZmZkZSEDNzMzMzExHQDMzMzMzs0ZAzczMzMxMRkBmZmZmZiZGQAAAAAAAQEZAZmZmZmZmRkBmZmZmZqZGQAAAAAAAAEdA",
           "dtype": "f8"
          },
          "coloraxis": "coloraxis",
          "symbol": "circle"
         },
         "mode": "markers",
         "name": "",
         "scene": "scene",
         "showlegend": false,
         "type": "scatter3d",
         "x": {
          "bdata": "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",
          "dtype": "f8"
         },
         "y": {
          "bdata": "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",
          "dtype": "f8"
         },
         "z": {
          "bdata": "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",
          "dtype": "f8"
         }
        }
       ],
       "layout": {
        "coloraxis": {
         "colorbar": {
          "title": {
           "text": "Life expectancy"
          }
         },
         "colorscale": [
          [
           0,
           "#0d0887"
          ],
          [
           0.1111111111111111,
           "#46039f"
          ],
          [
           0.2222222222222222,
           "#7201a8"
          ],
          [
           0.3333333333333333,
           "#9c179e"
          ],
          [
           0.4444444444444444,
           "#bd3786"
          ],
          [
           0.5555555555555556,
           "#d8576b"
          ],
          [
           0.6666666666666666,
           "#ed7953"
          ],
          [
           0.7777777777777778,
           "#fb9f3a"
          ],
          [
           0.8888888888888888,
           "#fdca26"
          ],
          [
           1,
           "#f0f921"
          ]
         ]
        },
        "legend": {
         "tracegroupgap": 0
        },
        "scene": {
         "domain": {
          "x": [
           0,
           1
          ],
          "y": [
           0,
           1
          ]
         },
         "xaxis": {
          "title": {
           "text": "Schooling"
          }
         },
         "yaxis": {
          "title": {
           "text": "HIV/AIDS"
          }
         },
         "zaxis": {
          "title": {
           "text": "Life expectancy"
          }
         }
        },
        "template": {
         "data": {
          "bar": [
           {
            "error_x": {
             "color": "#2a3f5f"
            },
            "error_y": {
             "color": "#2a3f5f"
            },
            "marker": {
             "line": {
              "color": "#E5ECF6",
              "width": 0.5
             },
             "pattern": {
              "fillmode": "overlay",
              "size": 10,
              "solidity": 0.2
             }
            },
            "type": "bar"
           }
          ],
          "barpolar": [
           {
            "marker": {
             "line": {
              "color": "#E5ECF6",
              "width": 0.5
             },
             "pattern": {
              "fillmode": "overlay",
              "size": 10,
              "solidity": 0.2
             }
            },
            "type": "barpolar"
           }
          ],
          "carpet": [
           {
            "aaxis": {
             "endlinecolor": "#2a3f5f",
             "gridcolor": "white",
             "linecolor": "white",
             "minorgridcolor": "white",
             "startlinecolor": "#2a3f5f"
            },
            "baxis": {
             "endlinecolor": "#2a3f5f",
             "gridcolor": "white",
             "linecolor": "white",
             "minorgridcolor": "white",
             "startlinecolor": "#2a3f5f"
            },
            "type": "carpet"
           }
          ],
          "choropleth": [
           {
            "colorbar": {
             "outlinewidth": 0,
             "ticks": ""
            },
            "type": "choropleth"
           }
          ],
          "contour": [
           {
            "colorbar": {
             "outlinewidth": 0,
             "ticks": ""
            },
            "colorscale": [
             [
              0,
              "#0d0887"
             ],
             [
              0.1111111111111111,
              "#46039f"
             ],
             [
              0.2222222222222222,
              "#7201a8"
             ],
             [
              0.3333333333333333,
              "#9c179e"
             ],
             [
              0.4444444444444444,
              "#bd3786"
             ],
             [
              0.5555555555555556,
              "#d8576b"
             ],
             [
              0.6666666666666666,
              "#ed7953"
             ],
             [
              0.7777777777777778,
              "#fb9f3a"
             ],
             [
              0.8888888888888888,
              "#fdca26"
             ],
             [
              1,
              "#f0f921"
             ]
            ],
            "type": "contour"
           }
          ],
          "contourcarpet": [
           {
            "colorbar": {
             "outlinewidth": 0,
             "ticks": ""
            },
            "type": "contourcarpet"
           }
          ],
          "heatmap": [
           {
            "colorbar": {
             "outlinewidth": 0,
             "ticks": ""
            },
            "colorscale": [
             [
              0,
              "#0d0887"
             ],
             [
              0.1111111111111111,
              "#46039f"
             ],
             [
              0.2222222222222222,
              "#7201a8"
             ],
             [
              0.3333333333333333,
              "#9c179e"
             ],
             [
              0.4444444444444444,
              "#bd3786"
             ],
             [
              0.5555555555555556,
              "#d8576b"
             ],
             [
              0.6666666666666666,
              "#ed7953"
             ],
             [
              0.7777777777777778,
              "#fb9f3a"
             ],
             [
              0.8888888888888888,
              "#fdca26"
             ],
             [
              1,
              "#f0f921"
             ]
            ],
            "type": "heatmap"
           }
          ],
          "histogram": [
           {
            "marker": {
             "pattern": {
              "fillmode": "overlay",
              "size": 10,
              "solidity": 0.2
             }
            },
            "type": "histogram"
           }
          ],
          "histogram2d": [
           {
            "colorbar": {
             "outlinewidth": 0,
             "ticks": ""
            },
            "colorscale": [
             [
              0,
              "#0d0887"
             ],
             [
              0.1111111111111111,
              "#46039f"
             ],
             [
              0.2222222222222222,
              "#7201a8"
             ],
             [
              0.3333333333333333,
              "#9c179e"
             ],
             [
              0.4444444444444444,
              "#bd3786"
             ],
             [
              0.5555555555555556,
              "#d8576b"
             ],
             [
              0.6666666666666666,
              "#ed7953"
             ],
             [
              0.7777777777777778,
              "#fb9f3a"
             ],
             [
              0.8888888888888888,
              "#fdca26"
             ],
             [
              1,
              "#f0f921"
             ]
            ],
            "type": "histogram2d"
           }
          ],
          "histogram2dcontour": [
           {
            "colorbar": {
             "outlinewidth": 0,
             "ticks": ""
            },
            "colorscale": [
             [
              0,
              "#0d0887"
             ],
             [
              0.1111111111111111,
              "#46039f"
             ],
             [
              0.2222222222222222,
              "#7201a8"
             ],
             [
              0.3333333333333333,
              "#9c179e"
             ],
             [
              0.4444444444444444,
              "#bd3786"
             ],
             [
              0.5555555555555556,
              "#d8576b"
             ],
             [
              0.6666666666666666,
              "#ed7953"
             ],
             [
              0.7777777777777778,
              "#fb9f3a"
             ],
             [
              0.8888888888888888,
              "#fdca26"
             ],
             [
              1,
              "#f0f921"
             ]
            ],
            "type": "histogram2dcontour"
           }
          ],
          "mesh3d": [
           {
            "colorbar": {
             "outlinewidth": 0,
             "ticks": ""
            },
            "type": "mesh3d"
           }
          ],
          "parcoords": [
           {
            "line": {
             "colorbar": {
              "outlinewidth": 0,
              "ticks": ""
             }
            },
            "type": "parcoords"
           }
          ],
          "pie": [
           {
            "automargin": true,
            "type": "pie"
           }
          ],
          "scatter": [
           {
            "fillpattern": {
             "fillmode": "overlay",
             "size": 10,
             "solidity": 0.2
            },
            "type": "scatter"
           }
          ],
          "scatter3d": [
           {
            "line": {
             "colorbar": {
              "outlinewidth": 0,
              "ticks": ""
             }
            },
            "marker": {
             "colorbar": {
              "outlinewidth": 0,
              "ticks": ""
             }
            },
            "type": "scatter3d"
           }
          ],
          "scattercarpet": [
           {
            "marker": {
             "colorbar": {
              "outlinewidth": 0,
              "ticks": ""
             }
            },
            "type": "scattercarpet"
           }
          ],
          "scattergeo": [
           {
            "marker": {
             "colorbar": {
              "outlinewidth": 0,
              "ticks": ""
             }
            },
            "type": "scattergeo"
           }
          ],
          "scattergl": [
           {
            "marker": {
             "colorbar": {
              "outlinewidth": 0,
              "ticks": ""
             }
            },
            "type": "scattergl"
           }
          ],
          "scattermap": [
           {
            "marker": {
             "colorbar": {
              "outlinewidth": 0,
              "ticks": ""
             }
            },
            "type": "scattermap"
           }
          ],
          "scattermapbox": [
           {
            "marker": {
             "colorbar": {
              "outlinewidth": 0,
              "ticks": ""
             }
            },
            "type": "scattermapbox"
           }
          ],
          "scatterpolar": [
           {
            "marker": {
             "colorbar": {
              "outlinewidth": 0,
              "ticks": ""
             }
            },
            "type": "scatterpolar"
           }
          ],
          "scatterpolargl": [
           {
            "marker": {
             "colorbar": {
              "outlinewidth": 0,
              "ticks": ""
             }
            },
            "type": "scatterpolargl"
           }
          ],
          "scatterternary": [
           {
            "marker": {
             "colorbar": {
              "outlinewidth": 0,
              "ticks": ""
             }
            },
            "type": "scatterternary"
           }
          ],
          "surface": [
           {
            "colorbar": {
             "outlinewidth": 0,
             "ticks": ""
            },
            "colorscale": [
             [
              0,
              "#0d0887"
             ],
             [
              0.1111111111111111,
              "#46039f"
             ],
             [
              0.2222222222222222,
              "#7201a8"
             ],
             [
              0.3333333333333333,
              "#9c179e"
             ],
             [
              0.4444444444444444,
              "#bd3786"
             ],
             [
              0.5555555555555556,
              "#d8576b"
             ],
             [
              0.6666666666666666,
              "#ed7953"
             ],
             [
              0.7777777777777778,
              "#fb9f3a"
             ],
             [
              0.8888888888888888,
              "#fdca26"
             ],
             [
              1,
              "#f0f921"
             ]
            ],
            "type": "surface"
           }
          ],
          "table": [
           {
            "cells": {
             "fill": {
              "color": "#EBF0F8"
             },
             "line": {
              "color": "white"
             }
            },
            "header": {
             "fill": {
              "color": "#C8D4E3"
             },
             "line": {
              "color": "white"
             }
            },
            "type": "table"
           }
          ]
         },
         "layout": {
          "annotationdefaults": {
           "arrowcolor": "#2a3f5f",
           "arrowhead": 0,
           "arrowwidth": 1
          },
          "autotypenumbers": "strict",
          "coloraxis": {
           "colorbar": {
            "outlinewidth": 0,
            "ticks": ""
           }
          },
          "colorscale": {
           "diverging": [
            [
             0,
             "#8e0152"
            ],
            [
             0.1,
             "#c51b7d"
            ],
            [
             0.2,
             "#de77ae"
            ],
            [
             0.3,
             "#f1b6da"
            ],
            [
             0.4,
             "#fde0ef"
            ],
            [
             0.5,
             "#f7f7f7"
            ],
            [
             0.6,
             "#e6f5d0"
            ],
            [
             0.7,
             "#b8e186"
            ],
            [
             0.8,
             "#7fbc41"
            ],
            [
             0.9,
             "#4d9221"
            ],
            [
             1,
             "#276419"
            ]
           ],
           "sequential": [
            [
             0,
             "#0d0887"
            ],
            [
             0.1111111111111111,
             "#46039f"
            ],
            [
             0.2222222222222222,
             "#7201a8"
            ],
            [
             0.3333333333333333,
             "#9c179e"
            ],
            [
             0.4444444444444444,
             "#bd3786"
            ],
            [
             0.5555555555555556,
             "#d8576b"
            ],
            [
             0.6666666666666666,
             "#ed7953"
            ],
            [
             0.7777777777777778,
             "#fb9f3a"
            ],
            [
             0.8888888888888888,
             "#fdca26"
            ],
            [
             1,
             "#f0f921"
            ]
           ],
           "sequentialminus": [
            [
             0,
             "#0d0887"
            ],
            [
             0.1111111111111111,
             "#46039f"
            ],
            [
             0.2222222222222222,
             "#7201a8"
            ],
            [
             0.3333333333333333,
             "#9c179e"
            ],
            [
             0.4444444444444444,
             "#bd3786"
            ],
            [
             0.5555555555555556,
             "#d8576b"
            ],
            [
             0.6666666666666666,
             "#ed7953"
            ],
            [
             0.7777777777777778,
             "#fb9f3a"
            ],
            [
             0.8888888888888888,
             "#fdca26"
            ],
            [
             1,
             "#f0f921"
            ]
           ]
          },
          "colorway": [
           "#636efa",
           "#EF553B",
           "#00cc96",
           "#ab63fa",
           "#FFA15A",
           "#19d3f3",
           "#FF6692",
           "#B6E880",
           "#FF97FF",
           "#FECB52"
          ],
          "font": {
           "color": "#2a3f5f"
          },
          "geo": {
           "bgcolor": "white",
           "lakecolor": "white",
           "landcolor": "#E5ECF6",
           "showlakes": true,
           "showland": true,
           "subunitcolor": "white"
          },
          "hoverlabel": {
           "align": "left"
          },
          "hovermode": "closest",
          "mapbox": {
           "style": "light"
          },
          "paper_bgcolor": "white",
          "plot_bgcolor": "#E5ECF6",
          "polar": {
           "angularaxis": {
            "gridcolor": "white",
            "linecolor": "white",
            "ticks": ""
           },
           "bgcolor": "#E5ECF6",
           "radialaxis": {
            "gridcolor": "white",
            "linecolor": "white",
            "ticks": ""
           }
          },
          "scene": {
           "xaxis": {
            "backgroundcolor": "#E5ECF6",
            "gridcolor": "white",
            "gridwidth": 2,
            "linecolor": "white",
            "showbackground": true,
            "ticks": "",
            "zerolinecolor": "white"
           },
           "yaxis": {
            "backgroundcolor": "#E5ECF6",
            "gridcolor": "white",
            "gridwidth": 2,
            "linecolor": "white",
            "showbackground": true,
            "ticks": "",
            "zerolinecolor": "white"
           },
           "zaxis": {
            "backgroundcolor": "#E5ECF6",
            "gridcolor": "white",
            "gridwidth": 2,
            "linecolor": "white",
            "showbackground": true,
            "ticks": "",
            "zerolinecolor": "white"
           }
          },
          "shapedefaults": {
           "line": {
            "color": "#2a3f5f"
           }
          },
          "ternary": {
           "aaxis": {
            "gridcolor": "white",
            "linecolor": "white",
            "ticks": ""
           },
           "baxis": {
            "gridcolor": "white",
            "linecolor": "white",
            "ticks": ""
           },
           "bgcolor": "#E5ECF6",
           "caxis": {
            "gridcolor": "white",
            "linecolor": "white",
            "ticks": ""
           }
          },
          "title": {
           "x": 0.05
          },
          "xaxis": {
           "automargin": true,
           "gridcolor": "white",
           "linecolor": "white",
           "ticks": "",
           "title": {
            "standoff": 15
           },
           "zerolinecolor": "white",
           "zerolinewidth": 2
          },
          "yaxis": {
           "automargin": true,
           "gridcolor": "white",
           "linecolor": "white",
           "ticks": "",
           "title": {
            "standoff": 15
           },
           "zerolinecolor": "white",
           "zerolinewidth": 2
          }
         }
        },
        "title": {
         "text": "Schooling x HIV/AIDS"
        }
       }
      }
     },
     "metadata": {},
     "output_type": "display_data"
    },
    {
     "data": {
      "application/vnd.plotly.v1+json": {
       "config": {
        "plotlyServerURL": "https://plot.ly"
       },
       "data": [
        {
         "hovertemplate": "GDP=%{x}<br>Status=%{y}<br>Life expectancy=%{marker.color}<extra></extra>",
         "legendgroup": "",
         "marker": {
          "color": {
           "bdata": "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",
           "dtype": "f8"
          },
          "coloraxis": "coloraxis",
          "symbol": "circle"
         },
         "mode": "markers",
         "name": "",
         "scene": "scene",
         "showlegend": false,
         "type": "scatter3d",
         "x": {
          "bdata": "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",
          "dtype": "f8"
         },
         "y": {
          "bdata": "AQEBAQEBAQEBAQEAAAAAAAAAAAAAAAAAAAAAAAAAAAAAAAAAAAAAAAAAAAAAAAAAAAAAAAAAAAAAAAAAAAAAAAAAAAAAAAAAAAAAAQEBAQEBAQEBAQEBAQEBAQAAAAAAAAAAAAAAAAAAAAAAAAAAAAAAAAAAAAAAAAAAAAAAAAAAAAAAAAAAAAAAAAAAAAAAAAAAAAAAAAAAAAABAQEBAQEBAQEBAQEBAQEBAQEBAQEBAQEBAQEBAQEBAQAAAAAAAAAAAAAAAAAAAAAAAAAAAAAAAAAAAAAAAAAAAAAAAAAAAAAAAAAAAAAAAAAAAAAAAAAAAAAAAAAAAAAAAAAAAAAAAAAAAAAAAAAAAAAAAAAAAAAAAAAAAAAAAAAAAAAAAAAAAAAAAAAAAAAAAAAAAAAAAAAAAAAAAAAAAAAAAAAAAAAAAAAAAAAAAAAAAAAAAAAAAAAAAAAAAAAAAAAAAAAAAAAAAAAAAAAAAAAAAAAAAAAAAAAAAAAAAAAAAAAAAAAAAAAAAAAAAAAAAAAAAAAAAAAAAAAAAAAAAAEBAQEBAQEBAQEBAQEBAQEAAAAAAAAAAAAAAAAAAAAAAQEBAQEBAQEBAQEBAQEBAQAAAAAAAAAAAAAAAAAAAAAAAAAAAAAAAAAAAAAAAAAAAAAAAAAAAAAAAAAAAAAAAAAAAAAAAAAAAAAAAAAAAAAAAAAAAAAAAAAAAAAAAAAAAAAAAAAAAAAAAAAAAAAAAAAAAAAAAAAAAAAAAAAAAAAAAAAAAAAAAAAAAAAAAAAA",
          "dtype": "i1"
         },
         "z": {
          "bdata": "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",
          "dtype": "f8"
         }
        }
       ],
       "layout": {
        "coloraxis": {
         "colorbar": {
          "title": {
           "text": "Life expectancy"
          }
         },
         "colorscale": [
          [
           0,
           "#0d0887"
          ],
          [
           0.1111111111111111,
           "#46039f"
          ],
          [
           0.2222222222222222,
           "#7201a8"
          ],
          [
           0.3333333333333333,
           "#9c179e"
          ],
          [
           0.4444444444444444,
           "#bd3786"
          ],
          [
           0.5555555555555556,
           "#d8576b"
          ],
          [
           0.6666666666666666,
           "#ed7953"
          ],
          [
           0.7777777777777778,
           "#fb9f3a"
          ],
          [
           0.8888888888888888,
           "#fdca26"
          ],
          [
           1,
           "#f0f921"
          ]
         ]
        },
        "legend": {
         "tracegroupgap": 0
        },
        "scene": {
         "domain": {
          "x": [
           0,
           1
          ],
          "y": [
           0,
           1
          ]
         },
         "xaxis": {
          "title": {
           "text": "GDP"
          }
         },
         "yaxis": {
          "title": {
           "text": "Status"
          }
         },
         "zaxis": {
          "title": {
           "text": "Life expectancy"
          }
         }
        },
        "template": {
         "data": {
          "bar": [
           {
            "error_x": {
             "color": "#2a3f5f"
            },
            "error_y": {
             "color": "#2a3f5f"
            },
            "marker": {
             "line": {
              "color": "#E5ECF6",
              "width": 0.5
             },
             "pattern": {
              "fillmode": "overlay",
              "size": 10,
              "solidity": 0.2
             }
            },
            "type": "bar"
           }
          ],
          "barpolar": [
           {
            "marker": {
             "line": {
              "color": "#E5ECF6",
              "width": 0.5
             },
             "pattern": {
              "fillmode": "overlay",
              "size": 10,
              "solidity": 0.2
             }
            },
            "type": "barpolar"
           }
          ],
          "carpet": [
           {
            "aaxis": {
             "endlinecolor": "#2a3f5f",
             "gridcolor": "white",
             "linecolor": "white",
             "minorgridcolor": "white",
             "startlinecolor": "#2a3f5f"
            },
            "baxis": {
             "endlinecolor": "#2a3f5f",
             "gridcolor": "white",
             "linecolor": "white",
             "minorgridcolor": "white",
             "startlinecolor": "#2a3f5f"
            },
            "type": "carpet"
           }
          ],
          "choropleth": [
           {
            "colorbar": {
             "outlinewidth": 0,
             "ticks": ""
            },
            "type": "choropleth"
           }
          ],
          "contour": [
           {
            "colorbar": {
             "outlinewidth": 0,
             "ticks": ""
            },
            "colorscale": [
             [
              0,
              "#0d0887"
             ],
             [
              0.1111111111111111,
              "#46039f"
             ],
             [
              0.2222222222222222,
              "#7201a8"
             ],
             [
              0.3333333333333333,
              "#9c179e"
             ],
             [
              0.4444444444444444,
              "#bd3786"
             ],
             [
              0.5555555555555556,
              "#d8576b"
             ],
             [
              0.6666666666666666,
              "#ed7953"
             ],
             [
              0.7777777777777778,
              "#fb9f3a"
             ],
             [
              0.8888888888888888,
              "#fdca26"
             ],
             [
              1,
              "#f0f921"
             ]
            ],
            "type": "contour"
           }
          ],
          "contourcarpet": [
           {
            "colorbar": {
             "outlinewidth": 0,
             "ticks": ""
            },
            "type": "contourcarpet"
           }
          ],
          "heatmap": [
           {
            "colorbar": {
             "outlinewidth": 0,
             "ticks": ""
            },
            "colorscale": [
             [
              0,
              "#0d0887"
             ],
             [
              0.1111111111111111,
              "#46039f"
             ],
             [
              0.2222222222222222,
              "#7201a8"
             ],
             [
              0.3333333333333333,
              "#9c179e"
             ],
             [
              0.4444444444444444,
              "#bd3786"
             ],
             [
              0.5555555555555556,
              "#d8576b"
             ],
             [
              0.6666666666666666,
              "#ed7953"
             ],
             [
              0.7777777777777778,
              "#fb9f3a"
             ],
             [
              0.8888888888888888,
              "#fdca26"
             ],
             [
              1,
              "#f0f921"
             ]
            ],
            "type": "heatmap"
           }
          ],
          "histogram": [
           {
            "marker": {
             "pattern": {
              "fillmode": "overlay",
              "size": 10,
              "solidity": 0.2
             }
            },
            "type": "histogram"
           }
          ],
          "histogram2d": [
           {
            "colorbar": {
             "outlinewidth": 0,
             "ticks": ""
            },
            "colorscale": [
             [
              0,
              "#0d0887"
             ],
             [
              0.1111111111111111,
              "#46039f"
             ],
             [
              0.2222222222222222,
              "#7201a8"
             ],
             [
              0.3333333333333333,
              "#9c179e"
             ],
             [
              0.4444444444444444,
              "#bd3786"
             ],
             [
              0.5555555555555556,
              "#d8576b"
             ],
             [
              0.6666666666666666,
              "#ed7953"
             ],
             [
              0.7777777777777778,
              "#fb9f3a"
             ],
             [
              0.8888888888888888,
              "#fdca26"
             ],
             [
              1,
              "#f0f921"
             ]
            ],
            "type": "histogram2d"
           }
          ],
          "histogram2dcontour": [
           {
            "colorbar": {
             "outlinewidth": 0,
             "ticks": ""
            },
            "colorscale": [
             [
              0,
              "#0d0887"
             ],
             [
              0.1111111111111111,
              "#46039f"
             ],
             [
              0.2222222222222222,
              "#7201a8"
             ],
             [
              0.3333333333333333,
              "#9c179e"
             ],
             [
              0.4444444444444444,
              "#bd3786"
             ],
             [
              0.5555555555555556,
              "#d8576b"
             ],
             [
              0.6666666666666666,
              "#ed7953"
             ],
             [
              0.7777777777777778,
              "#fb9f3a"
             ],
             [
              0.8888888888888888,
              "#fdca26"
             ],
             [
              1,
              "#f0f921"
             ]
            ],
            "type": "histogram2dcontour"
           }
          ],
          "mesh3d": [
           {
            "colorbar": {
             "outlinewidth": 0,
             "ticks": ""
            },
            "type": "mesh3d"
           }
          ],
          "parcoords": [
           {
            "line": {
             "colorbar": {
              "outlinewidth": 0,
              "ticks": ""
             }
            },
            "type": "parcoords"
           }
          ],
          "pie": [
           {
            "automargin": true,
            "type": "pie"
           }
          ],
          "scatter": [
           {
            "fillpattern": {
             "fillmode": "overlay",
             "size": 10,
             "solidity": 0.2
            },
            "type": "scatter"
           }
          ],
          "scatter3d": [
           {
            "line": {
             "colorbar": {
              "outlinewidth": 0,
              "ticks": ""
             }
            },
            "marker": {
             "colorbar": {
              "outlinewidth": 0,
              "ticks": ""
             }
            },
            "type": "scatter3d"
           }
          ],
          "scattercarpet": [
           {
            "marker": {
             "colorbar": {
              "outlinewidth": 0,
              "ticks": ""
             }
            },
            "type": "scattercarpet"
           }
          ],
          "scattergeo": [
           {
            "marker": {
             "colorbar": {
              "outlinewidth": 0,
              "ticks": ""
             }
            },
            "type": "scattergeo"
           }
          ],
          "scattergl": [
           {
            "marker": {
             "colorbar": {
              "outlinewidth": 0,
              "ticks": ""
             }
            },
            "type": "scattergl"
           }
          ],
          "scattermap": [
           {
            "marker": {
             "colorbar": {
              "outlinewidth": 0,
              "ticks": ""
             }
            },
            "type": "scattermap"
           }
          ],
          "scattermapbox": [
           {
            "marker": {
             "colorbar": {
              "outlinewidth": 0,
              "ticks": ""
             }
            },
            "type": "scattermapbox"
           }
          ],
          "scatterpolar": [
           {
            "marker": {
             "colorbar": {
              "outlinewidth": 0,
              "ticks": ""
             }
            },
            "type": "scatterpolar"
           }
          ],
          "scatterpolargl": [
           {
            "marker": {
             "colorbar": {
              "outlinewidth": 0,
              "ticks": ""
             }
            },
            "type": "scatterpolargl"
           }
          ],
          "scatterternary": [
           {
            "marker": {
             "colorbar": {
              "outlinewidth": 0,
              "ticks": ""
             }
            },
            "type": "scatterternary"
           }
          ],
          "surface": [
           {
            "colorbar": {
             "outlinewidth": 0,
             "ticks": ""
            },
            "colorscale": [
             [
              0,
              "#0d0887"
             ],
             [
              0.1111111111111111,
              "#46039f"
             ],
             [
              0.2222222222222222,
              "#7201a8"
             ],
             [
              0.3333333333333333,
              "#9c179e"
             ],
             [
              0.4444444444444444,
              "#bd3786"
             ],
             [
              0.5555555555555556,
              "#d8576b"
             ],
             [
              0.6666666666666666,
              "#ed7953"
             ],
             [
              0.7777777777777778,
              "#fb9f3a"
             ],
             [
              0.8888888888888888,
              "#fdca26"
             ],
             [
              1,
              "#f0f921"
             ]
            ],
            "type": "surface"
           }
          ],
          "table": [
           {
            "cells": {
             "fill": {
              "color": "#EBF0F8"
             },
             "line": {
              "color": "white"
             }
            },
            "header": {
             "fill": {
              "color": "#C8D4E3"
             },
             "line": {
              "color": "white"
             }
            },
            "type": "table"
           }
          ]
         },
         "layout": {
          "annotationdefaults": {
           "arrowcolor": "#2a3f5f",
           "arrowhead": 0,
           "arrowwidth": 1
          },
          "autotypenumbers": "strict",
          "coloraxis": {
           "colorbar": {
            "outlinewidth": 0,
            "ticks": ""
           }
          },
          "colorscale": {
           "diverging": [
            [
             0,
             "#8e0152"
            ],
            [
             0.1,
             "#c51b7d"
            ],
            [
             0.2,
             "#de77ae"
            ],
            [
             0.3,
             "#f1b6da"
            ],
            [
             0.4,
             "#fde0ef"
            ],
            [
             0.5,
             "#f7f7f7"
            ],
            [
             0.6,
             "#e6f5d0"
            ],
            [
             0.7,
             "#b8e186"
            ],
            [
             0.8,
             "#7fbc41"
            ],
            [
             0.9,
             "#4d9221"
            ],
            [
             1,
             "#276419"
            ]
           ],
           "sequential": [
            [
             0,
             "#0d0887"
            ],
            [
             0.1111111111111111,
             "#46039f"
            ],
            [
             0.2222222222222222,
             "#7201a8"
            ],
            [
             0.3333333333333333,
             "#9c179e"
            ],
            [
             0.4444444444444444,
             "#bd3786"
            ],
            [
             0.5555555555555556,
             "#d8576b"
            ],
            [
             0.6666666666666666,
             "#ed7953"
            ],
            [
             0.7777777777777778,
             "#fb9f3a"
            ],
            [
             0.8888888888888888,
             "#fdca26"
            ],
            [
             1,
             "#f0f921"
            ]
           ],
           "sequentialminus": [
            [
             0,
             "#0d0887"
            ],
            [
             0.1111111111111111,
             "#46039f"
            ],
            [
             0.2222222222222222,
             "#7201a8"
            ],
            [
             0.3333333333333333,
             "#9c179e"
            ],
            [
             0.4444444444444444,
             "#bd3786"
            ],
            [
             0.5555555555555556,
             "#d8576b"
            ],
            [
             0.6666666666666666,
             "#ed7953"
            ],
            [
             0.7777777777777778,
             "#fb9f3a"
            ],
            [
             0.8888888888888888,
             "#fdca26"
            ],
            [
             1,
             "#f0f921"
            ]
           ]
          },
          "colorway": [
           "#636efa",
           "#EF553B",
           "#00cc96",
           "#ab63fa",
           "#FFA15A",
           "#19d3f3",
           "#FF6692",
           "#B6E880",
           "#FF97FF",
           "#FECB52"
          ],
          "font": {
           "color": "#2a3f5f"
          },
          "geo": {
           "bgcolor": "white",
           "lakecolor": "white",
           "landcolor": "#E5ECF6",
           "showlakes": true,
           "showland": true,
           "subunitcolor": "white"
          },
          "hoverlabel": {
           "align": "left"
          },
          "hovermode": "closest",
          "mapbox": {
           "style": "light"
          },
          "paper_bgcolor": "white",
          "plot_bgcolor": "#E5ECF6",
          "polar": {
           "angularaxis": {
            "gridcolor": "white",
            "linecolor": "white",
            "ticks": ""
           },
           "bgcolor": "#E5ECF6",
           "radialaxis": {
            "gridcolor": "white",
            "linecolor": "white",
            "ticks": ""
           }
          },
          "scene": {
           "xaxis": {
            "backgroundcolor": "#E5ECF6",
            "gridcolor": "white",
            "gridwidth": 2,
            "linecolor": "white",
            "showbackground": true,
            "ticks": "",
            "zerolinecolor": "white"
           },
           "yaxis": {
            "backgroundcolor": "#E5ECF6",
            "gridcolor": "white",
            "gridwidth": 2,
            "linecolor": "white",
            "showbackground": true,
            "ticks": "",
            "zerolinecolor": "white"
           },
           "zaxis": {
            "backgroundcolor": "#E5ECF6",
            "gridcolor": "white",
            "gridwidth": 2,
            "linecolor": "white",
            "showbackground": true,
            "ticks": "",
            "zerolinecolor": "white"
           }
          },
          "shapedefaults": {
           "line": {
            "color": "#2a3f5f"
           }
          },
          "ternary": {
           "aaxis": {
            "gridcolor": "white",
            "linecolor": "white",
            "ticks": ""
           },
           "baxis": {
            "gridcolor": "white",
            "linecolor": "white",
            "ticks": ""
           },
           "bgcolor": "#E5ECF6",
           "caxis": {
            "gridcolor": "white",
            "linecolor": "white",
            "ticks": ""
           }
          },
          "title": {
           "x": 0.05
          },
          "xaxis": {
           "automargin": true,
           "gridcolor": "white",
           "linecolor": "white",
           "ticks": "",
           "title": {
            "standoff": 15
           },
           "zerolinecolor": "white",
           "zerolinewidth": 2
          },
          "yaxis": {
           "automargin": true,
           "gridcolor": "white",
           "linecolor": "white",
           "ticks": "",
           "title": {
            "standoff": 15
           },
           "zerolinecolor": "white",
           "zerolinewidth": 2
          }
         }
        },
        "title": {
         "text": "GDP x Status"
        }
       }
      }
     },
     "metadata": {},
     "output_type": "display_data"
    },
    {
     "data": {
      "application/vnd.plotly.v1+json": {
       "config": {
        "plotlyServerURL": "https://plot.ly"
       },
       "data": [
        {
         "hovertemplate": "Schooling=%{x}<br>Total expenditure=%{y}<br>Life expectancy=%{marker.color}<extra></extra>",
         "legendgroup": "",
         "marker": {
          "color": {
           "bdata": "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",
           "dtype": "f8"
          },
          "coloraxis": "coloraxis",
          "symbol": "circle"
         },
         "mode": "markers",
         "name": "",
         "scene": "scene",
         "showlegend": false,
         "type": "scatter3d",
         "x": {
          "bdata": "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",
          "dtype": "f8"
         },
         "y": {
          "bdata": "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",
          "dtype": "f8"
         },
         "z": {
          "bdata": "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",
          "dtype": "f8"
         }
        }
       ],
       "layout": {
        "coloraxis": {
         "colorbar": {
          "title": {
           "text": "Life expectancy"
          }
         },
         "colorscale": [
          [
           0,
           "#0d0887"
          ],
          [
           0.1111111111111111,
           "#46039f"
          ],
          [
           0.2222222222222222,
           "#7201a8"
          ],
          [
           0.3333333333333333,
           "#9c179e"
          ],
          [
           0.4444444444444444,
           "#bd3786"
          ],
          [
           0.5555555555555556,
           "#d8576b"
          ],
          [
           0.6666666666666666,
           "#ed7953"
          ],
          [
           0.7777777777777778,
           "#fb9f3a"
          ],
          [
           0.8888888888888888,
           "#fdca26"
          ],
          [
           1,
           "#f0f921"
          ]
         ]
        },
        "legend": {
         "tracegroupgap": 0
        },
        "margin": {
         "t": 60
        },
        "scene": {
         "domain": {
          "x": [
           0,
           1
          ],
          "y": [
           0,
           1
          ]
         },
         "xaxis": {
          "title": {
           "text": "Schooling"
          }
         },
         "yaxis": {
          "title": {
           "text": "Total expenditure"
          }
         },
         "zaxis": {
          "title": {
           "text": "Life expectancy"
          }
         }
        },
        "template": {
         "data": {
          "bar": [
           {
            "error_x": {
             "color": "#2a3f5f"
            },
            "error_y": {
             "color": "#2a3f5f"
            },
            "marker": {
             "line": {
              "color": "#E5ECF6",
              "width": 0.5
             },
             "pattern": {
              "fillmode": "overlay",
              "size": 10,
              "solidity": 0.2
             }
            },
            "type": "bar"
           }
          ],
          "barpolar": [
           {
            "marker": {
             "line": {
              "color": "#E5ECF6",
              "width": 0.5
             },
             "pattern": {
              "fillmode": "overlay",
              "size": 10,
              "solidity": 0.2
             }
            },
            "type": "barpolar"
           }
          ],
          "carpet": [
           {
            "aaxis": {
             "endlinecolor": "#2a3f5f",
             "gridcolor": "white",
             "linecolor": "white",
             "minorgridcolor": "white",
             "startlinecolor": "#2a3f5f"
            },
            "baxis": {
             "endlinecolor": "#2a3f5f",
             "gridcolor": "white",
             "linecolor": "white",
             "minorgridcolor": "white",
             "startlinecolor": "#2a3f5f"
            },
            "type": "carpet"
           }
          ],
          "choropleth": [
           {
            "colorbar": {
             "outlinewidth": 0,
             "ticks": ""
            },
            "type": "choropleth"
           }
          ],
          "contour": [
           {
            "colorbar": {
             "outlinewidth": 0,
             "ticks": ""
            },
            "colorscale": [
             [
              0,
              "#0d0887"
             ],
             [
              0.1111111111111111,
              "#46039f"
             ],
             [
              0.2222222222222222,
              "#7201a8"
             ],
             [
              0.3333333333333333,
              "#9c179e"
             ],
             [
              0.4444444444444444,
              "#bd3786"
             ],
             [
              0.5555555555555556,
              "#d8576b"
             ],
             [
              0.6666666666666666,
              "#ed7953"
             ],
             [
              0.7777777777777778,
              "#fb9f3a"
             ],
             [
              0.8888888888888888,
              "#fdca26"
             ],
             [
              1,
              "#f0f921"
             ]
            ],
            "type": "contour"
           }
          ],
          "contourcarpet": [
           {
            "colorbar": {
             "outlinewidth": 0,
             "ticks": ""
            },
            "type": "contourcarpet"
           }
          ],
          "heatmap": [
           {
            "colorbar": {
             "outlinewidth": 0,
             "ticks": ""
            },
            "colorscale": [
             [
              0,
              "#0d0887"
             ],
             [
              0.1111111111111111,
              "#46039f"
             ],
             [
              0.2222222222222222,
              "#7201a8"
             ],
             [
              0.3333333333333333,
              "#9c179e"
             ],
             [
              0.4444444444444444,
              "#bd3786"
             ],
             [
              0.5555555555555556,
              "#d8576b"
             ],
             [
              0.6666666666666666,
              "#ed7953"
             ],
             [
              0.7777777777777778,
              "#fb9f3a"
             ],
             [
              0.8888888888888888,
              "#fdca26"
             ],
             [
              1,
              "#f0f921"
             ]
            ],
            "type": "heatmap"
           }
          ],
          "histogram": [
           {
            "marker": {
             "pattern": {
              "fillmode": "overlay",
              "size": 10,
              "solidity": 0.2
             }
            },
            "type": "histogram"
           }
          ],
          "histogram2d": [
           {
            "colorbar": {
             "outlinewidth": 0,
             "ticks": ""
            },
            "colorscale": [
             [
              0,
              "#0d0887"
             ],
             [
              0.1111111111111111,
              "#46039f"
             ],
             [
              0.2222222222222222,
              "#7201a8"
             ],
             [
              0.3333333333333333,
              "#9c179e"
             ],
             [
              0.4444444444444444,
              "#bd3786"
             ],
             [
              0.5555555555555556,
              "#d8576b"
             ],
             [
              0.6666666666666666,
              "#ed7953"
             ],
             [
              0.7777777777777778,
              "#fb9f3a"
             ],
             [
              0.8888888888888888,
              "#fdca26"
             ],
             [
              1,
              "#f0f921"
             ]
            ],
            "type": "histogram2d"
           }
          ],
          "histogram2dcontour": [
           {
            "colorbar": {
             "outlinewidth": 0,
             "ticks": ""
            },
            "colorscale": [
             [
              0,
              "#0d0887"
             ],
             [
              0.1111111111111111,
              "#46039f"
             ],
             [
              0.2222222222222222,
              "#7201a8"
             ],
             [
              0.3333333333333333,
              "#9c179e"
             ],
             [
              0.4444444444444444,
              "#bd3786"
             ],
             [
              0.5555555555555556,
              "#d8576b"
             ],
             [
              0.6666666666666666,
              "#ed7953"
             ],
             [
              0.7777777777777778,
              "#fb9f3a"
             ],
             [
              0.8888888888888888,
              "#fdca26"
             ],
             [
              1,
              "#f0f921"
             ]
            ],
            "type": "histogram2dcontour"
           }
          ],
          "mesh3d": [
           {
            "colorbar": {
             "outlinewidth": 0,
             "ticks": ""
            },
            "type": "mesh3d"
           }
          ],
          "parcoords": [
           {
            "line": {
             "colorbar": {
              "outlinewidth": 0,
              "ticks": ""
             }
            },
            "type": "parcoords"
           }
          ],
          "pie": [
           {
            "automargin": true,
            "type": "pie"
           }
          ],
          "scatter": [
           {
            "fillpattern": {
             "fillmode": "overlay",
             "size": 10,
             "solidity": 0.2
            },
            "type": "scatter"
           }
          ],
          "scatter3d": [
           {
            "line": {
             "colorbar": {
              "outlinewidth": 0,
              "ticks": ""
             }
            },
            "marker": {
             "colorbar": {
              "outlinewidth": 0,
              "ticks": ""
             }
            },
            "type": "scatter3d"
           }
          ],
          "scattercarpet": [
           {
            "marker": {
             "colorbar": {
              "outlinewidth": 0,
              "ticks": ""
             }
            },
            "type": "scattercarpet"
           }
          ],
          "scattergeo": [
           {
            "marker": {
             "colorbar": {
              "outlinewidth": 0,
              "ticks": ""
             }
            },
            "type": "scattergeo"
           }
          ],
          "scattergl": [
           {
            "marker": {
             "colorbar": {
              "outlinewidth": 0,
              "ticks": ""
             }
            },
            "type": "scattergl"
           }
          ],
          "scattermap": [
           {
            "marker": {
             "colorbar": {
              "outlinewidth": 0,
              "ticks": ""
             }
            },
            "type": "scattermap"
           }
          ],
          "scattermapbox": [
           {
            "marker": {
             "colorbar": {
              "outlinewidth": 0,
              "ticks": ""
             }
            },
            "type": "scattermapbox"
           }
          ],
          "scatterpolar": [
           {
            "marker": {
             "colorbar": {
              "outlinewidth": 0,
              "ticks": ""
             }
            },
            "type": "scatterpolar"
           }
          ],
          "scatterpolargl": [
           {
            "marker": {
             "colorbar": {
              "outlinewidth": 0,
              "ticks": ""
             }
            },
            "type": "scatterpolargl"
           }
          ],
          "scatterternary": [
           {
            "marker": {
             "colorbar": {
              "outlinewidth": 0,
              "ticks": ""
             }
            },
            "type": "scatterternary"
           }
          ],
          "surface": [
           {
            "colorbar": {
             "outlinewidth": 0,
             "ticks": ""
            },
            "colorscale": [
             [
              0,
              "#0d0887"
             ],
             [
              0.1111111111111111,
              "#46039f"
             ],
             [
              0.2222222222222222,
              "#7201a8"
             ],
             [
              0.3333333333333333,
              "#9c179e"
             ],
             [
              0.4444444444444444,
              "#bd3786"
             ],
             [
              0.5555555555555556,
              "#d8576b"
             ],
             [
              0.6666666666666666,
              "#ed7953"
             ],
             [
              0.7777777777777778,
              "#fb9f3a"
             ],
             [
              0.8888888888888888,
              "#fdca26"
             ],
             [
              1,
              "#f0f921"
             ]
            ],
            "type": "surface"
           }
          ],
          "table": [
           {
            "cells": {
             "fill": {
              "color": "#EBF0F8"
             },
             "line": {
              "color": "white"
             }
            },
            "header": {
             "fill": {
              "color": "#C8D4E3"
             },
             "line": {
              "color": "white"
             }
            },
            "type": "table"
           }
          ]
         },
         "layout": {
          "annotationdefaults": {
           "arrowcolor": "#2a3f5f",
           "arrowhead": 0,
           "arrowwidth": 1
          },
          "autotypenumbers": "strict",
          "coloraxis": {
           "colorbar": {
            "outlinewidth": 0,
            "ticks": ""
           }
          },
          "colorscale": {
           "diverging": [
            [
             0,
             "#8e0152"
            ],
            [
             0.1,
             "#c51b7d"
            ],
            [
             0.2,
             "#de77ae"
            ],
            [
             0.3,
             "#f1b6da"
            ],
            [
             0.4,
             "#fde0ef"
            ],
            [
             0.5,
             "#f7f7f7"
            ],
            [
             0.6,
             "#e6f5d0"
            ],
            [
             0.7,
             "#b8e186"
            ],
            [
             0.8,
             "#7fbc41"
            ],
            [
             0.9,
             "#4d9221"
            ],
            [
             1,
             "#276419"
            ]
           ],
           "sequential": [
            [
             0,
             "#0d0887"
            ],
            [
             0.1111111111111111,
             "#46039f"
            ],
            [
             0.2222222222222222,
             "#7201a8"
            ],
            [
             0.3333333333333333,
             "#9c179e"
            ],
            [
             0.4444444444444444,
             "#bd3786"
            ],
            [
             0.5555555555555556,
             "#d8576b"
            ],
            [
             0.6666666666666666,
             "#ed7953"
            ],
            [
             0.7777777777777778,
             "#fb9f3a"
            ],
            [
             0.8888888888888888,
             "#fdca26"
            ],
            [
             1,
             "#f0f921"
            ]
           ],
           "sequentialminus": [
            [
             0,
             "#0d0887"
            ],
            [
             0.1111111111111111,
             "#46039f"
            ],
            [
             0.2222222222222222,
             "#7201a8"
            ],
            [
             0.3333333333333333,
             "#9c179e"
            ],
            [
             0.4444444444444444,
             "#bd3786"
            ],
            [
             0.5555555555555556,
             "#d8576b"
            ],
            [
             0.6666666666666666,
             "#ed7953"
            ],
            [
             0.7777777777777778,
             "#fb9f3a"
            ],
            [
             0.8888888888888888,
             "#fdca26"
            ],
            [
             1,
             "#f0f921"
            ]
           ]
          },
          "colorway": [
           "#636efa",
           "#EF553B",
           "#00cc96",
           "#ab63fa",
           "#FFA15A",
           "#19d3f3",
           "#FF6692",
           "#B6E880",
           "#FF97FF",
           "#FECB52"
          ],
          "font": {
           "color": "#2a3f5f"
          },
          "geo": {
           "bgcolor": "white",
           "lakecolor": "white",
           "landcolor": "#E5ECF6",
           "showlakes": true,
           "showland": true,
           "subunitcolor": "white"
          },
          "hoverlabel": {
           "align": "left"
          },
          "hovermode": "closest",
          "mapbox": {
           "style": "light"
          },
          "paper_bgcolor": "white",
          "plot_bgcolor": "#E5ECF6",
          "polar": {
           "angularaxis": {
            "gridcolor": "white",
            "linecolor": "white",
            "ticks": ""
           },
           "bgcolor": "#E5ECF6",
           "radialaxis": {
            "gridcolor": "white",
            "linecolor": "white",
            "ticks": ""
           }
          },
          "scene": {
           "xaxis": {
            "backgroundcolor": "#E5ECF6",
            "gridcolor": "white",
            "gridwidth": 2,
            "linecolor": "white",
            "showbackground": true,
            "ticks": "",
            "zerolinecolor": "white"
           },
           "yaxis": {
            "backgroundcolor": "#E5ECF6",
            "gridcolor": "white",
            "gridwidth": 2,
            "linecolor": "white",
            "showbackground": true,
            "ticks": "",
            "zerolinecolor": "white"
           },
           "zaxis": {
            "backgroundcolor": "#E5ECF6",
            "gridcolor": "white",
            "gridwidth": 2,
            "linecolor": "white",
            "showbackground": true,
            "ticks": "",
            "zerolinecolor": "white"
           }
          },
          "shapedefaults": {
           "line": {
            "color": "#2a3f5f"
           }
          },
          "ternary": {
           "aaxis": {
            "gridcolor": "white",
            "linecolor": "white",
            "ticks": ""
           },
           "baxis": {
            "gridcolor": "white",
            "linecolor": "white",
            "ticks": ""
           },
           "bgcolor": "#E5ECF6",
           "caxis": {
            "gridcolor": "white",
            "linecolor": "white",
            "ticks": ""
           }
          },
          "title": {
           "x": 0.05
          },
          "xaxis": {
           "automargin": true,
           "gridcolor": "white",
           "linecolor": "white",
           "ticks": "",
           "title": {
            "standoff": 15
           },
           "zerolinecolor": "white",
           "zerolinewidth": 2
          },
          "yaxis": {
           "automargin": true,
           "gridcolor": "white",
           "linecolor": "white",
           "ticks": "",
           "title": {
            "standoff": 15
           },
           "zerolinecolor": "white",
           "zerolinewidth": 2
          }
         }
        }
       }
      }
     },
     "metadata": {},
     "output_type": "display_data"
    }
   ],
   "source": [
    "from plotly import graph_objects as go\n",
    "\n",
    "train_size = int(0.8 * len(X))\n",
    "xtrain = df.drop([\"Population\", \"Year\"], axis=1)[:train_size].copy()\n",
    "xtest = df.drop([\"Population\", \"Year\"], axis=1)[train_size:].copy()\n",
    "\n",
    "px.scatter_3d(xtest, x=\"Schooling\", y=\"Income composition of resources\", z=\"Life expectancy\", color=\"Life expectancy\", title=\"Schooling x Income composition of resources\").show()\n",
    "px.scatter_3d(xtest, x=\"Income composition of resources\", y=\"HIV/AIDS\", z=\"Life expectancy\", color=\"Life expectancy\", title=\"Income composition of resources x HIV/AIDS\").show()\n",
    "px.scatter_3d(xtest, x=\"Schooling\", y=\"HIV/AIDS\", z=\"Life expectancy\", color=\"Life expectancy\", title=\"Schooling x HIV/AIDS\").show()\n",
    "px.scatter_3d(xtest, x=\"GDP\", y=\"Status\", z=\"Life expectancy\", color=\"Life expectancy\", title=\"GDP x Status\").show()\n",
    "px.scatter_3d(xtest, x=\"Schooling\", y=\"Total expenditure\", z=\"Life expectancy\", color=\"Life expectancy\").show()\n",
    "\n"
   ]
  },
  {
   "cell_type": "code",
   "execution_count": null,
   "metadata": {
    "id": "Rglen5HN5Xxc"
   },
   "outputs": [
    {
     "name": "stdout",
     "output_type": "stream",
     "text": [
      "MAE without interaction: 0.3350\n",
      "MAE with interaction:    0.3350\n"
     ]
    }
   ],
   "source": [
    "# Example: Adding an interaction term to improve the model\n",
    "\n",
    "\n",
    "# Split the DataFrame into train and test\n",
    "train_size = int(0.8 * len(df)) # Example using 80%\n",
    "df_train = df.iloc[:train_size].copy()\n",
    "df_test = df.iloc[train_size:].copy()\n",
    "\n",
    "df_train = df_train.drop([\"Population\", \"Year\"], axis=1)\n",
    "df_test = df_test.drop([\"Population\", \"Year\"], axis=1)\n",
    "\n",
    "# Define features and target\n",
    "X_train_extra = torch.tensor(df_train.drop(\"Life expectancy\", axis=1).values, dtype=torch.float32)\n",
    "X_test_extra = torch.tensor(df_test.drop(\"Life expectancy\", axis=1).values, dtype=torch.float32)\n",
    "y_train = torch.tensor(df_train[\"Life expectancy\"].values, dtype=torch.float32).view(-1, 1)\n",
    "y_test = torch.tensor(df_test[\"Life expectancy\"].values, dtype=torch.float32).view(-1, 1)\n",
    "\n",
    "\n",
    "# Create an interaction term (e.g., product of two features)\n",
    "feature_a = \"Schooling\"\n",
    "feature_b = \"Adult Mortality\"\n",
    "\n",
    "def add_interaction(df, feature_a, feature_b):\n",
    "    new_feature = f\"{feature_a}_{feature_b}\"\n",
    "    df[new_feature] = df[feature_a] * df[feature_b]\n",
    "    return df\n",
    "\n",
    "df_train = add_interaction(df_train, \"Schooling\", \"HIV/AIDS\")\n",
    "df_train = add_interaction(df_train, \"Schooling\", \"Income composition of resources\")\n",
    "df_train = add_interaction(df_train, \"Income composition of resources\", \"HIV/AIDS\")\n",
    "\n",
    "df_test = add_interaction(df_test, \"Schooling\", \"HIV/AIDS\")\n",
    "df_test = add_interaction(df_test, \"Schooling\", \"Income composition of resources\")\n",
    "df_test = add_interaction(df_test, \"Income composition of resources\", \"HIV/AIDS\")\n",
    "\n",
    "# Compute normalization parameters from training data only\n",
    "X_train_mean = X_train_extra.mean(dim=0)\n",
    "X_train_std = X_train_extra.std(dim=0)\n",
    "y_train_mean = y_train.mean()\n",
    "y_train_std = y_train.std()\n",
    "\n",
    "# Normalize using training parameters\n",
    "X_train_extra = (X_train_extra - X_train_mean) / X_train_std\n",
    "X_test_extra = (X_test_extra - X_train_mean) / X_train_std\n",
    "y_train = (y_train - y_train_mean) / y_train_std\n",
    "y_test = (y_test - y_train_mean) / y_train_std\n",
    "\n",
    "# Retrain manual regressor with extra feature\n",
    "regressor_extra = MyLinearRegressor(learning_rate=0.01, max_iter=1000)\n",
    "regressor_extra.fit(X_train_extra, y_train)\n",
    "y_pred_extra = regressor_extra.predict(X_test_extra)\n",
    "\n",
    "# Evaluate the model with the interaction term\n",
    "print(f\"MAE without interaction: {mae_manual:.4f}\\nMAE with interaction:    {float(mae(y_pred_extra, y_test)):.4f}\")"
   ]
  },
  {
   "cell_type": "code",
   "execution_count": 73,
   "metadata": {},
   "outputs": [],
   "source": [
    "def best_new_features(df_train, df_test):\n",
    "\n",
    "    train_size = int(0.8 * len(df)) # Example using 80%\n",
    "    df_train = df.iloc[:train_size].copy()\n",
    "    df_test = df.iloc[train_size:].copy()\n",
    "\n",
    "\n",
    "    # Define features and target\n",
    "    X_train_extra = torch.tensor(df_train.drop(\"Life expectancy\", axis=1).values, dtype=torch.float32)\n",
    "    X_test_extra = torch.tensor(df_test.drop(\"Life expectancy\", axis=1).values, dtype=torch.float32)\n",
    "    y_train = torch.tensor(df_train[\"Life expectancy\"].values, dtype=torch.float32).view(-1, 1)\n",
    "    y_test = torch.tensor(df_test[\"Life expectancy\"].values, dtype=torch.float32).view(-1, 1)\n",
    "\n",
    "    df_train = df_train.drop([\"Life expectancy\", \"Population\", \"Year\"], axis=1)\n",
    "    df_test = df_test.drop([\"Life expectancy\", \"Population\", \"Year\"], axis=1)\n",
    "    \n",
    "    new_train_features = []\n",
    "    prev_mae = 0\n",
    "    for i in range(len(df_train.columns)):\n",
    "        for j in range(i + 1, len(df_train.columns)):\n",
    "            new_feature = f\"{df_train.columns[i]}_{df_train.columns[j]}\"\n",
    "            df_train[new_feature] = df_train[df_train.columns[i]] * df_train[df_train.columns[j]]\n",
    "            df_test[new_feature] = df_test[df_test.columns[i]] * df_test[df_test.columns[j]]\n",
    "\n",
    "            # Compute normalization parameters from training data only\n",
    "            X_train_mean = X_train_extra.mean(dim=0)\n",
    "            X_train_std = X_train_extra.std(dim=0)\n",
    "            y_train_mean = y_train.mean()\n",
    "            y_train_std = y_train.std()\n",
    "\n",
    "            # Normalize using training parameters\n",
    "            X_train_extra = (X_train_extra - X_train_mean) / X_train_std\n",
    "            X_test_extra = (X_test_extra - X_train_mean) / X_train_std\n",
    "            y_train = (y_train - y_train_mean) / y_train_std\n",
    "            y_test = (y_test - y_train_mean) / y_train_std\n",
    "\n",
    "            # Retrain manual regressor with extra feature\n",
    "            regressor_extra = MyLinearRegressor(learning_rate=0.01, max_iter=1000)\n",
    "            regressor_extra.fit(X_train_extra, y_train)\n",
    "            y_pred_extra = regressor_extra.predict(X_test_extra)\n",
    "\n",
    "            # Evaluate the model with the interaction term\n",
    "            mae_extra = MAE(y_pred_extra, y_test)\n",
    "            if (mae_extra - 0.335) > -0.001:\n",
    "                df_train = df_train.drop([new_feature], axis=1)\n",
    "                df_test = df_test.drop([new_feature], axis=1)\n",
    "                #print(f\"Dropping {new_feature} out of the model - MAE: {mae_extra}\")\n",
    "            else:\n",
    "                print(f\"Adding {new_feature} to the model - MAE: {mae_extra:.4f}\")\n",
    "                new_train_features.append([new_feature, mae_extra])\n",
    "    return new_train_features\n",
    "\n",
    "comparisons = [print(f\"{x[0].replace(\"_\", \" vs \")} - MAE: {x[1]}\" )for x in best_new_features(df_train, df_test)]"
   ]
  },
  {
   "cell_type": "markdown",
   "metadata": {},
   "source": [
    "The attempt to find synergy was unproductive. The 3D plots above show the possibility of synergy between Schooling and Income Composition of Resources (ICR), as well as ICR x HIV/AIDS and Schooling x HIV/AIDS. When these interactions were added to the model trainment, they made no improvements to the MAE score. A script was also designed to cover all the 2 by 2 interactions, and none of the interactions improved the MAE score of the model either."
   ]
  },
  {
   "cell_type": "markdown",
   "metadata": {
    "id": "5RwygiGJ5Xxc"
   },
   "source": [
    "---"
   ]
  },
  {
   "cell_type": "markdown",
   "metadata": {
    "id": "TCjyoSBa5Xxd"
   },
   "source": [
    "#### **K-Nearest Neighbors (KNN) Classifier**\n",
    "\n",
    "In this section, you must load and explore the dataset, then train a K-Nearest Neighbors (KNN) classifier using PyTorch."
   ]
  },
  {
   "cell_type": "markdown",
   "metadata": {
    "id": "p5qHmmR05Xxd"
   },
   "source": [
    "#### **Dataset: Wine Quality (Cortez *et al*., 2009)[2]**\n",
    "\n",
    "This dataset contains chemical properties of red wine samples, with a quality score assigned by experts. We’ll adapt it for multiclass classification by binning the quality scores.\n",
    "\n",
    "The goal is to classify wine quality based on its chemical composition, which can assist winemakers in quality control.\n",
    "\n",
    "Features and their descriptions:\n",
    "- **fixed acidity**: Fixed acidity level (g/dm³)\n",
    "- **volatile acidity**: Volatile acidity level (g/dm³)\n",
    "- **citric acid**: Citric acid level (g/dm³)\n",
    "- **residual sugar**: Residual sugar level (g/dm³)\n",
    "- **chlorides**: Chloride level (g/dm³)\n",
    "- **free sulfur dioxide**: Free sulfur dioxide level (mg/dm³)\n",
    "- **total sulfur dioxide**: Total sulfur dioxide level (mg/dm³)\n",
    "- **density**: Density of the wine (g/cm³)\n",
    "- **pH**: pH level\n",
    "- **sulphates**: Sulphate level (g/dm³)\n",
    "- **alcohol**: Alcohol content (% by volume)\n",
    "- **quality (TARGET)**: Quality score (0-10, binned into 3 classes: Low [0-4], Medium [5-7], High [8-10])\n",
    "\n",
    "**How to load the dataset**\n",
    "\n",
    "- Load the dataset from a local CSV file (`wine_quality_red.csv`), which uses semicolons (`;`) as separators.\n",
    "- The dataset is located in `assignment_1/data/wine_quality_red.csv`"
   ]
  },
  {
   "cell_type": "code",
   "execution_count": 77,
   "metadata": {
    "id": "nZZWx29t5Xxd"
   },
   "outputs": [],
   "source": [
    "# Load the wine quality dataset from a local CSV file\n",
    "# Note: This CSV uses semicolons (;) as separators\n",
    "df_ = pd.read_csv(\"data/wine_quality_red.csv\", sep=';') # ...  You may change this path"
   ]
  },
  {
   "cell_type": "code",
   "execution_count": 78,
   "metadata": {
    "id": "PHGZNsC85Xxe"
   },
   "outputs": [
    {
     "name": "stdout",
     "output_type": "stream",
     "text": [
      "Index(['fixed acidity', 'volatile acidity', 'citric acid', 'residual sugar',\n",
      "       'chlorides', 'free sulfur dioxide', 'total sulfur dioxide', 'density',\n",
      "       'pH', 'sulphates', 'alcohol', 'quality'],\n",
      "      dtype='object')\n"
     ]
    }
   ],
   "source": [
    "# Check column names (optional, for verification)\n",
    "print(df_.columns)  # Should print: ['fixed acidity', 'volatile acidity', ..., 'quality']"
   ]
  },
  {
   "cell_type": "code",
   "execution_count": 79,
   "metadata": {
    "id": "QSwmCagM5Xxe"
   },
   "outputs": [],
   "source": [
    "# Define features (X) and target (y) for classification\n",
    "# X: all columns except \"quality\" (the target)\n",
    "X = torch.tensor(df_.drop(\"quality\", axis=1).values, dtype=torch.float32)\n",
    "# Bin \"quality\" into 3 classes: Low (0-4), Medium (5-7), High (8-10)\n",
    "y = torch.tensor(pd.cut(df_[\"quality\"], bins=[0, 4, 7, 10], labels=[0, 1, 2]).cat.codes, dtype=torch.long)\n",
    "\n",
    "# Normalize features\n",
    "X = (X - X.mean(dim=0)) / X.std(dim=0)"
   ]
  },
  {
   "cell_type": "code",
   "execution_count": 80,
   "metadata": {
    "id": "RXSrnQRT5Xxf"
   },
   "outputs": [],
   "source": [
    "# Split into training (80%) and testing (20%) sets\n",
    "# You can try different splits\n",
    "train_size = int(0.8 * len(X))\n",
    "X_train, X_test = X[:train_size], X[train_size:]\n",
    "y_train, y_test = y[:train_size], y[train_size:]"
   ]
  },
  {
   "cell_type": "markdown",
   "metadata": {
    "id": "6Xl5DzC35Xxf"
   },
   "source": [
    "##### **Data analysis and preprocessing**\n",
    "\n",
    "$({1.5} \\space points)$\n",
    "\n",
    "Explore the dataset as in the Linear Regression section. Use [`mutual_info_classif`](https://scikit-learn.org/stable/modules/generated/sklearn.feature_selection.mutual_info_classif.html) from Scikit-learn (exploratory exception) to assess feature importance."
   ]
  },
  {
   "cell_type": "code",
   "execution_count": 81,
   "metadata": {
    "id": "cHwCSEJd5Xxf"
   },
   "outputs": [
    {
     "data": {
      "application/vnd.plotly.v1+json": {
       "config": {
        "plotlyServerURL": "https://plot.ly"
       },
       "data": [
        {
         "hovertemplate": "Features=%{x}<br>Mutual Information=%{y}<extra></extra>",
         "legendgroup": "",
         "marker": {
          "color": "#636efa",
          "pattern": {
           "shape": ""
          }
         },
         "name": "",
         "orientation": "v",
         "showlegend": false,
         "textposition": "auto",
         "type": "bar",
         "x": [
          "fixed acidity",
          "volatile acidity",
          "citric acid",
          "residual sugar",
          "chlorides",
          "free sulfur dioxide",
          "total sulfur dioxide",
          "density",
          "pH",
          "sulphates",
          "alcohol"
         ],
         "xaxis": "x",
         "y": {
          "bdata": "gOnZ3LHtpz+wUIrtii2+P4AmQ5U9C7I/wGCja4CFpj9AxD3HrkOlPwAWz4FVz4c/YIw3swpXuj9AFDz42oa0PwDctMOe75o/AASqkB+SuT/YB1AAX0TJPw==",
          "dtype": "f8"
         },
         "yaxis": "y"
        }
       ],
       "layout": {
        "bargap": 0.2,
        "barmode": "relative",
        "height": 400,
        "legend": {
         "tracegroupgap": 0
        },
        "template": {
         "data": {
          "bar": [
           {
            "error_x": {
             "color": "#2a3f5f"
            },
            "error_y": {
             "color": "#2a3f5f"
            },
            "marker": {
             "line": {
              "color": "#E5ECF6",
              "width": 0.5
             },
             "pattern": {
              "fillmode": "overlay",
              "size": 10,
              "solidity": 0.2
             }
            },
            "type": "bar"
           }
          ],
          "barpolar": [
           {
            "marker": {
             "line": {
              "color": "#E5ECF6",
              "width": 0.5
             },
             "pattern": {
              "fillmode": "overlay",
              "size": 10,
              "solidity": 0.2
             }
            },
            "type": "barpolar"
           }
          ],
          "carpet": [
           {
            "aaxis": {
             "endlinecolor": "#2a3f5f",
             "gridcolor": "white",
             "linecolor": "white",
             "minorgridcolor": "white",
             "startlinecolor": "#2a3f5f"
            },
            "baxis": {
             "endlinecolor": "#2a3f5f",
             "gridcolor": "white",
             "linecolor": "white",
             "minorgridcolor": "white",
             "startlinecolor": "#2a3f5f"
            },
            "type": "carpet"
           }
          ],
          "choropleth": [
           {
            "colorbar": {
             "outlinewidth": 0,
             "ticks": ""
            },
            "type": "choropleth"
           }
          ],
          "contour": [
           {
            "colorbar": {
             "outlinewidth": 0,
             "ticks": ""
            },
            "colorscale": [
             [
              0,
              "#0d0887"
             ],
             [
              0.1111111111111111,
              "#46039f"
             ],
             [
              0.2222222222222222,
              "#7201a8"
             ],
             [
              0.3333333333333333,
              "#9c179e"
             ],
             [
              0.4444444444444444,
              "#bd3786"
             ],
             [
              0.5555555555555556,
              "#d8576b"
             ],
             [
              0.6666666666666666,
              "#ed7953"
             ],
             [
              0.7777777777777778,
              "#fb9f3a"
             ],
             [
              0.8888888888888888,
              "#fdca26"
             ],
             [
              1,
              "#f0f921"
             ]
            ],
            "type": "contour"
           }
          ],
          "contourcarpet": [
           {
            "colorbar": {
             "outlinewidth": 0,
             "ticks": ""
            },
            "type": "contourcarpet"
           }
          ],
          "heatmap": [
           {
            "colorbar": {
             "outlinewidth": 0,
             "ticks": ""
            },
            "colorscale": [
             [
              0,
              "#0d0887"
             ],
             [
              0.1111111111111111,
              "#46039f"
             ],
             [
              0.2222222222222222,
              "#7201a8"
             ],
             [
              0.3333333333333333,
              "#9c179e"
             ],
             [
              0.4444444444444444,
              "#bd3786"
             ],
             [
              0.5555555555555556,
              "#d8576b"
             ],
             [
              0.6666666666666666,
              "#ed7953"
             ],
             [
              0.7777777777777778,
              "#fb9f3a"
             ],
             [
              0.8888888888888888,
              "#fdca26"
             ],
             [
              1,
              "#f0f921"
             ]
            ],
            "type": "heatmap"
           }
          ],
          "histogram": [
           {
            "marker": {
             "pattern": {
              "fillmode": "overlay",
              "size": 10,
              "solidity": 0.2
             }
            },
            "type": "histogram"
           }
          ],
          "histogram2d": [
           {
            "colorbar": {
             "outlinewidth": 0,
             "ticks": ""
            },
            "colorscale": [
             [
              0,
              "#0d0887"
             ],
             [
              0.1111111111111111,
              "#46039f"
             ],
             [
              0.2222222222222222,
              "#7201a8"
             ],
             [
              0.3333333333333333,
              "#9c179e"
             ],
             [
              0.4444444444444444,
              "#bd3786"
             ],
             [
              0.5555555555555556,
              "#d8576b"
             ],
             [
              0.6666666666666666,
              "#ed7953"
             ],
             [
              0.7777777777777778,
              "#fb9f3a"
             ],
             [
              0.8888888888888888,
              "#fdca26"
             ],
             [
              1,
              "#f0f921"
             ]
            ],
            "type": "histogram2d"
           }
          ],
          "histogram2dcontour": [
           {
            "colorbar": {
             "outlinewidth": 0,
             "ticks": ""
            },
            "colorscale": [
             [
              0,
              "#0d0887"
             ],
             [
              0.1111111111111111,
              "#46039f"
             ],
             [
              0.2222222222222222,
              "#7201a8"
             ],
             [
              0.3333333333333333,
              "#9c179e"
             ],
             [
              0.4444444444444444,
              "#bd3786"
             ],
             [
              0.5555555555555556,
              "#d8576b"
             ],
             [
              0.6666666666666666,
              "#ed7953"
             ],
             [
              0.7777777777777778,
              "#fb9f3a"
             ],
             [
              0.8888888888888888,
              "#fdca26"
             ],
             [
              1,
              "#f0f921"
             ]
            ],
            "type": "histogram2dcontour"
           }
          ],
          "mesh3d": [
           {
            "colorbar": {
             "outlinewidth": 0,
             "ticks": ""
            },
            "type": "mesh3d"
           }
          ],
          "parcoords": [
           {
            "line": {
             "colorbar": {
              "outlinewidth": 0,
              "ticks": ""
             }
            },
            "type": "parcoords"
           }
          ],
          "pie": [
           {
            "automargin": true,
            "type": "pie"
           }
          ],
          "scatter": [
           {
            "fillpattern": {
             "fillmode": "overlay",
             "size": 10,
             "solidity": 0.2
            },
            "type": "scatter"
           }
          ],
          "scatter3d": [
           {
            "line": {
             "colorbar": {
              "outlinewidth": 0,
              "ticks": ""
             }
            },
            "marker": {
             "colorbar": {
              "outlinewidth": 0,
              "ticks": ""
             }
            },
            "type": "scatter3d"
           }
          ],
          "scattercarpet": [
           {
            "marker": {
             "colorbar": {
              "outlinewidth": 0,
              "ticks": ""
             }
            },
            "type": "scattercarpet"
           }
          ],
          "scattergeo": [
           {
            "marker": {
             "colorbar": {
              "outlinewidth": 0,
              "ticks": ""
             }
            },
            "type": "scattergeo"
           }
          ],
          "scattergl": [
           {
            "marker": {
             "colorbar": {
              "outlinewidth": 0,
              "ticks": ""
             }
            },
            "type": "scattergl"
           }
          ],
          "scattermap": [
           {
            "marker": {
             "colorbar": {
              "outlinewidth": 0,
              "ticks": ""
             }
            },
            "type": "scattermap"
           }
          ],
          "scattermapbox": [
           {
            "marker": {
             "colorbar": {
              "outlinewidth": 0,
              "ticks": ""
             }
            },
            "type": "scattermapbox"
           }
          ],
          "scatterpolar": [
           {
            "marker": {
             "colorbar": {
              "outlinewidth": 0,
              "ticks": ""
             }
            },
            "type": "scatterpolar"
           }
          ],
          "scatterpolargl": [
           {
            "marker": {
             "colorbar": {
              "outlinewidth": 0,
              "ticks": ""
             }
            },
            "type": "scatterpolargl"
           }
          ],
          "scatterternary": [
           {
            "marker": {
             "colorbar": {
              "outlinewidth": 0,
              "ticks": ""
             }
            },
            "type": "scatterternary"
           }
          ],
          "surface": [
           {
            "colorbar": {
             "outlinewidth": 0,
             "ticks": ""
            },
            "colorscale": [
             [
              0,
              "#0d0887"
             ],
             [
              0.1111111111111111,
              "#46039f"
             ],
             [
              0.2222222222222222,
              "#7201a8"
             ],
             [
              0.3333333333333333,
              "#9c179e"
             ],
             [
              0.4444444444444444,
              "#bd3786"
             ],
             [
              0.5555555555555556,
              "#d8576b"
             ],
             [
              0.6666666666666666,
              "#ed7953"
             ],
             [
              0.7777777777777778,
              "#fb9f3a"
             ],
             [
              0.8888888888888888,
              "#fdca26"
             ],
             [
              1,
              "#f0f921"
             ]
            ],
            "type": "surface"
           }
          ],
          "table": [
           {
            "cells": {
             "fill": {
              "color": "#EBF0F8"
             },
             "line": {
              "color": "white"
             }
            },
            "header": {
             "fill": {
              "color": "#C8D4E3"
             },
             "line": {
              "color": "white"
             }
            },
            "type": "table"
           }
          ]
         },
         "layout": {
          "annotationdefaults": {
           "arrowcolor": "#2a3f5f",
           "arrowhead": 0,
           "arrowwidth": 1
          },
          "autotypenumbers": "strict",
          "coloraxis": {
           "colorbar": {
            "outlinewidth": 0,
            "ticks": ""
           }
          },
          "colorscale": {
           "diverging": [
            [
             0,
             "#8e0152"
            ],
            [
             0.1,
             "#c51b7d"
            ],
            [
             0.2,
             "#de77ae"
            ],
            [
             0.3,
             "#f1b6da"
            ],
            [
             0.4,
             "#fde0ef"
            ],
            [
             0.5,
             "#f7f7f7"
            ],
            [
             0.6,
             "#e6f5d0"
            ],
            [
             0.7,
             "#b8e186"
            ],
            [
             0.8,
             "#7fbc41"
            ],
            [
             0.9,
             "#4d9221"
            ],
            [
             1,
             "#276419"
            ]
           ],
           "sequential": [
            [
             0,
             "#0d0887"
            ],
            [
             0.1111111111111111,
             "#46039f"
            ],
            [
             0.2222222222222222,
             "#7201a8"
            ],
            [
             0.3333333333333333,
             "#9c179e"
            ],
            [
             0.4444444444444444,
             "#bd3786"
            ],
            [
             0.5555555555555556,
             "#d8576b"
            ],
            [
             0.6666666666666666,
             "#ed7953"
            ],
            [
             0.7777777777777778,
             "#fb9f3a"
            ],
            [
             0.8888888888888888,
             "#fdca26"
            ],
            [
             1,
             "#f0f921"
            ]
           ],
           "sequentialminus": [
            [
             0,
             "#0d0887"
            ],
            [
             0.1111111111111111,
             "#46039f"
            ],
            [
             0.2222222222222222,
             "#7201a8"
            ],
            [
             0.3333333333333333,
             "#9c179e"
            ],
            [
             0.4444444444444444,
             "#bd3786"
            ],
            [
             0.5555555555555556,
             "#d8576b"
            ],
            [
             0.6666666666666666,
             "#ed7953"
            ],
            [
             0.7777777777777778,
             "#fb9f3a"
            ],
            [
             0.8888888888888888,
             "#fdca26"
            ],
            [
             1,
             "#f0f921"
            ]
           ]
          },
          "colorway": [
           "#636efa",
           "#EF553B",
           "#00cc96",
           "#ab63fa",
           "#FFA15A",
           "#19d3f3",
           "#FF6692",
           "#B6E880",
           "#FF97FF",
           "#FECB52"
          ],
          "font": {
           "color": "#2a3f5f"
          },
          "geo": {
           "bgcolor": "white",
           "lakecolor": "white",
           "landcolor": "#E5ECF6",
           "showlakes": true,
           "showland": true,
           "subunitcolor": "white"
          },
          "hoverlabel": {
           "align": "left"
          },
          "hovermode": "closest",
          "mapbox": {
           "style": "light"
          },
          "paper_bgcolor": "white",
          "plot_bgcolor": "#E5ECF6",
          "polar": {
           "angularaxis": {
            "gridcolor": "white",
            "linecolor": "white",
            "ticks": ""
           },
           "bgcolor": "#E5ECF6",
           "radialaxis": {
            "gridcolor": "white",
            "linecolor": "white",
            "ticks": ""
           }
          },
          "scene": {
           "xaxis": {
            "backgroundcolor": "#E5ECF6",
            "gridcolor": "white",
            "gridwidth": 2,
            "linecolor": "white",
            "showbackground": true,
            "ticks": "",
            "zerolinecolor": "white"
           },
           "yaxis": {
            "backgroundcolor": "#E5ECF6",
            "gridcolor": "white",
            "gridwidth": 2,
            "linecolor": "white",
            "showbackground": true,
            "ticks": "",
            "zerolinecolor": "white"
           },
           "zaxis": {
            "backgroundcolor": "#E5ECF6",
            "gridcolor": "white",
            "gridwidth": 2,
            "linecolor": "white",
            "showbackground": true,
            "ticks": "",
            "zerolinecolor": "white"
           }
          },
          "shapedefaults": {
           "line": {
            "color": "#2a3f5f"
           }
          },
          "ternary": {
           "aaxis": {
            "gridcolor": "white",
            "linecolor": "white",
            "ticks": ""
           },
           "baxis": {
            "gridcolor": "white",
            "linecolor": "white",
            "ticks": ""
           },
           "bgcolor": "#E5ECF6",
           "caxis": {
            "gridcolor": "white",
            "linecolor": "white",
            "ticks": ""
           }
          },
          "title": {
           "x": 0.05
          },
          "xaxis": {
           "automargin": true,
           "gridcolor": "white",
           "linecolor": "white",
           "ticks": "",
           "title": {
            "standoff": 15
           },
           "zerolinecolor": "white",
           "zerolinewidth": 2
          },
          "yaxis": {
           "automargin": true,
           "gridcolor": "white",
           "linecolor": "white",
           "ticks": "",
           "title": {
            "standoff": 15
           },
           "zerolinecolor": "white",
           "zerolinewidth": 2
          }
         }
        },
        "title": {
         "text": "Feature Importance"
        },
        "width": 800,
        "xaxis": {
         "anchor": "y",
         "domain": [
          0,
          1
         ],
         "tickangle": -45,
         "title": {
          "text": "Features"
         }
        },
        "yaxis": {
         "anchor": "x",
         "domain": [
          0,
          1
         ],
         "title": {
          "text": "Mutual Information"
         }
        }
       }
      }
     },
     "metadata": {},
     "output_type": "display_data"
    }
   ],
   "source": [
    "from sklearn.feature_selection import mutual_info_classif\n",
    "\n",
    "mt_info = mutual_info_classif(df_.drop(\"quality\", axis=1), df_[\"quality\"])\n",
    "mt_info_df = pd.Series(mt_info, index=df_.drop(\"quality\", axis=1).columns)\n",
    "# (...)\n",
    "# fig.show() or plt.show()? Your call!\n",
    "fig = px.bar(\n",
    "    x=mt_info_df.index,\n",
    "    y=mt_info_df.values,\n",
    "    labels={'x': 'Features', 'y': 'Mutual Information'},\n",
    "    title='Feature Importance',\n",
    "    height=400,\n",
    "    width=800\n",
    ")\n",
    "fig.update_layout(\n",
    "    xaxis_tickangle=-45,\n",
    "    xaxis_title=\"Features\",\n",
    "    yaxis_title=\"Mutual Information\",\n",
    "    bargap=0.2\n",
    ")\n",
    "fig.show()"
   ]
  },
  {
   "cell_type": "markdown",
   "metadata": {
    "id": "aKb2r3Uu5Xxg"
   },
   "source": [
    "Check for missing values and handle them if present (this dataset typically has none).\n",
    "\n",
    "#### **Discussion of key points**\n",
    "- Were there missing values? How did you handle them?"
   ]
  },
  {
   "cell_type": "markdown",
   "metadata": {},
   "source": [
    "There were no missing values. This was confirmed through the info method, which shows the count of non-null parameters vs the total amount of data. The PH was not considered relevant to the dataset since it presented consistent low evaluation throught repetitive runs of the mutual info classification."
   ]
  },
  {
   "cell_type": "markdown",
   "metadata": {
    "id": "u9n5AsXl5Xxp"
   },
   "source": [
    "#### **Train a K-Nearest Neighbors Classifier**\n",
    "\n",
    "$({2.5} \\space point)$\n",
    "\n",
    "Implement and train a KNN classifier using PyTorch."
   ]
  },
  {
   "cell_type": "code",
   "execution_count": 84,
   "metadata": {
    "id": "vIEvemVM5Xxq"
   },
   "outputs": [],
   "source": [
    "# KNN Classifier\n",
    "class KNNClassifier:\n",
    "    def __init__(self, k=10):\n",
    "        self.k = k # Number of nearest neighbors to consider\n",
    "\n",
    "    def fit(self, X, y):\n",
    "        # Store training data (KNN is a lazy learner—no real \"training\" happens here)\n",
    "        self.X_train = X\n",
    "        self.y_train = y\n",
    "\n",
    "    def predict(self, X):\n",
    "        # Compute Euclidean distances between test points and training points\n",
    "        distances = torch.cdist(X, self.X_train)\n",
    "        # Get indices of k nearest neighbors (smallest distances)\n",
    "        _, indices = distances.topk(self.k, largest=False)\n",
    "        # Retrieve labels of the k nearest neighbors\n",
    "        k_nearest_labels = self.y_train[indices]\n",
    "        # Predict the most common class (mode) among the k neighbors\n",
    "        predictions = torch.mode(k_nearest_labels, dim=1)[0]\n",
    "        return predictions"
   ]
  },
  {
   "cell_type": "code",
   "execution_count": 87,
   "metadata": {
    "id": "VlO94t2j5Xxq"
   },
   "outputs": [
    {
     "name": "stdout",
     "output_type": "stream",
     "text": [
      "Accuracy: 0.9406, F1-Score: 0.3231\n",
      "Confusion Matrix:\n",
      " tensor([[  0,  16,   0],\n",
      "        [  0, 301,   0],\n",
      "        [  0,   3,   0]])\n"
     ]
    },
    {
     "data": {
      "image/png": "[encoded data removed]",
      "text/plain": [
       "<Figure size 600x600 with 2 Axes>"
      ]
     },
     "metadata": {},
     "output_type": "display_data"
    }
   ],
   "source": [
    "# Removing the PH from the dataset\n",
    "X = torch.tensor(df_.drop([\"quality\", \"pH\"], axis=1).values, dtype=torch.float32)\n",
    "y = torch.tensor(pd.cut(df_[\"quality\"], bins=[0, 4, 7, 10], labels=[0, 1, 2]).cat.codes, dtype=torch.long)\n",
    "\n",
    "train_size = int(0.8 * len(X))\n",
    "X_train, X_test = X[:train_size], X[train_size:]\n",
    "y_train, y_test = y[:train_size], y[train_size:]\n",
    "\n",
    "# Normalize features\n",
    "X = (X - X.mean(dim=0)) / X.std(dim=0)\n",
    "\n",
    "# Train and predict with KNN\n",
    "knn = KNNClassifier(k=10)\n",
    "knn.fit(X_train, y_train)\n",
    "y_pred = knn.predict(X_test)\n",
    "\n",
    "# Metrics with Torchmetrics\n",
    "accuracy = Accuracy(task=\"multiclass\", num_classes=3)\n",
    "f1 = F1Score(task=\"multiclass\", num_classes=3, average=\"macro\")\n",
    "conf_matrix = ConfusionMatrix(task=\"multiclass\", num_classes=3)\n",
    "\n",
    "# Evaluate the KNN classifier\n",
    "acc = accuracy(y_pred, y_test)\n",
    "f1_score = f1(y_pred, y_test)\n",
    "cm = conf_matrix(y_pred, y_test)\n",
    "\n",
    "print(f\"Accuracy: {acc:.4f}, F1-Score: {f1_score:.4f}\")\n",
    "print(\"Confusion Matrix:\\n\", cm)\n",
    "\n",
    "# Plot confusion matrix\n",
    "plt.figure(figsize=(6, 6))\n",
    "plt.imshow(cm, interpolation=\"nearest\", cmap=plt.cm.Blues)\n",
    "plt.title(\"Confusion Matrix\")\n",
    "plt.colorbar()\n",
    "plt.xticks([0, 1, 2], [\"Low\", \"Medium\", \"High\"])\n",
    "plt.yticks([0, 1, 2], [\"Low\", \"Medium\", \"High\"])\n",
    "plt.xlabel(\"True\")\n",
    "plt.ylabel(\"Predicted\")\n",
    "plt.show()"
   ]
  },
  {
   "cell_type": "markdown",
   "metadata": {
    "id": "FKEQ1HeB5Xxr"
   },
   "source": [
    "##### **Discussion of key points**\n",
    "- Is accuracy a good metric for this problem? Justify.\n",
    "- What conclusions can you draw from the confusion matrix?\n",
    "- What was the best K? How does K impact the bias-variance tradeoff?"
   ]
  },
  {
   "cell_type": "markdown",
   "metadata": {
    "id": "iHktUE3M5Xxr"
   },
   "source": [
    "Accuracy is not a good metric for the model, because it presented a high score while the confusion matrix and the F1 metric presented a poor performance for it."
   ]
  },
  {
   "cell_type": "markdown",
   "metadata": {
    "id": "yuiP9nAf5Xxs"
   },
   "source": [
    "---"
   ]
  },
  {
   "cell_type": "markdown",
   "metadata": {
    "id": "gZtNqHh_5Xxs"
   },
   "source": [
    "#### **Multiclass Classification**\n",
    "\n",
    "$({1} \\space point)$\n",
    "\n",
    "Adapt the **Life Expectancy Data** target into 4 classes (quartiles) and train a KNN classifier."
   ]
  },
  {
   "cell_type": "code",
   "execution_count": null,
   "metadata": {
    "id": "TEjyLefC5Xxs"
   },
   "outputs": [],
   "source": [
    "# Reload the Life Expectancy dataset for a classification task\n",
    "df = pd.read_csv(\"MC886_1S2025/assignment_1/data/life_expectancy_data.csv\") # You may change this path\n",
    "\n",
    "df = df.drop([\"Country\"], axis=1)\n",
    "df[\"Status\"] = df[\"Status\"].map({\"Developed\": 1, \"Developing\": 0})\n",
    "df = df.fillna(df.median())\n",
    "\n",
    "# Define features and target; bin \"Life expectancy\" into 4 quartiles (Q1-Q4)\n",
    "X = torch.tensor(df.drop(\"Life expectancy\", axis=1).values, dtype=torch.float32)\n",
    "y = torch.tensor(pd.qcut(df[\"Life expectancy\"], q=4, labels=[0, 1, 2, 3]).cat.codes, dtype=torch.long)\n",
    "\n",
    "# Normalize features\n",
    "X = (X - X.mean(dim=0)) / X.std(dim=0)\n",
    "train_size = int(0.8 * len(X))\n",
    "X_train, X_test = X[:train_size], X[train_size:]\n",
    "y_train, y_test = y[:train_size], y[train_size:]\n",
    "\n",
    "# Train and predict with KNN for Life Expectancy classification\n",
    "knn = KNNClassifier(k=5)\n",
    "knn.fit(X_train, y_train)\n",
    "y_pred = knn.predict(X_test)\n",
    "\n",
    "# Define metrics for 4-class classification\n",
    "accuracy = Accuracy(task=\"multiclass\", num_classes=4)\n",
    "f1 = F1Score(task=\"multiclass\", num_classes=4, average=\"macro\")\n",
    "conf_matrix = ConfusionMatrix(task=\"multiclass\", num_classes=4)\n",
    "\n",
    "# Evaluate the classifier\n",
    "acc = accuracy(y_pred, y_test)\n",
    "f1_score = f1(y_pred, y_test)\n",
    "cm = conf_matrix(y_pred, y_test)\n",
    "\n",
    "print(f\"Accuracy: {acc:.4f}, F1-Score: {f1_score:.4f}\")\n",
    "print(\"Confusion Matrix:\\n\", cm)\n",
    "\n",
    "# Visualize the confusion matrix for quartiles\n",
    "plt.figure(figsize=(6, 6))\n",
    "plt.imshow(cm, interpolation=\"nearest\", cmap=plt.cm.Blues)\n",
    "plt.title(\"Confusion Matrix\")\n",
    "plt.colorbar()\n",
    "plt.xticks([0, 1, 2, 3], [\"Q1\", \"Q2\", \"Q3\", \"Q4\"])\n",
    "plt.yticks([0, 1, 2, 3], [\"Q1\", \"Q2\", \"Q3\", \"Q4\"])\n",
    "plt.xlabel(\"True\")\n",
    "plt.ylabel(\"Predicted\")\n",
    "plt.show()"
   ]
  },
  {
   "cell_type": "markdown",
   "metadata": {
    "id": "Z6JZeefI5Xxt"
   },
   "source": [
    "##### **Discussion of key points**\n",
    "- Is accuracy a good metric for this problem? Justify.\n",
    "- What conclusions can you draw from the confusion matrix?\n",
    "- Is there value in solving a regression problem as multiclass classification?"
   ]
  },
  {
   "cell_type": "markdown",
   "metadata": {
    "id": "mPXfiKbq5Xxt"
   },
   "source": [
    "*YOUR ANSWER HERE*"
   ]
  },
  {
   "cell_type": "markdown",
   "metadata": {
    "id": "Ux_gyUP75Xxt"
   },
   "source": [
    "Best of luck!!!"
   ]
  },
  {
   "cell_type": "markdown",
   "metadata": {
    "id": "q9WVY5ICOCRK"
   },
   "source": [
    "##### **Assignment submission**\n",
    "\n",
    "This notebook must be filled with your solution and submitted on the Assignment's entry at our Google Classroom page. Only one member of the pair should submit the solution.\n",
    "\n",
    "##### **Policy for late submissions**\n",
    "\n",
    "You are NOT encouraged to submit the solution after the deadline; however, in this case, the following penalties hold:\n",
    "\n",
    "* 25% of the grade for 1-day late submission;\n",
    "* 50% of the grade for 2-day late submission;\n",
    "* 75% of the grade for 3-day late submission.\n",
    "\n"
   ]
  },
  {
   "cell_type": "markdown",
   "metadata": {
    "id": "ATlohvJd5Xxu"
   },
   "source": [
    "#### **REFERENCES**\n",
    "\n",
    "[1] Rajarshi, K., Russell, D., & Wang, D. (2009). Life Expectancy (WHO). Kaggle. [https://www.kaggle.com/datasets/kumarajarshi/life-expectancy-who](https://www.kaggle.com/datasets/kumarajarshi/life-expectancy-who).\n",
    "\n",
    "[2] Cortez, P., Cerdeira, A., Almeida, F., Matos, T., & Reis, J. (2009). Wine Quality [Dataset]. UCI Machine Learning Repository. [https://doi.org/10.24432/C56S3T](https://doi.org/10.24432/C56S3T)."
   ]
  }
 ],
 "metadata": {
  "colab": {
   "provenance": []
  },
  "kernelspec": {
   "display_name": ".venv",
   "language": "python",
   "name": "python3"
  },
  "language_info": {
   "codemirror_mode": {
    "name": "ipython",
    "version": 3
   },
   "file_extension": ".py",
   "mimetype": "text/x-python",
   "name": "python",
   "nbconvert_exporter": "python",
   "pygments_lexer": "ipython3",
   "version": "3.12.3"
  }
 },
 "nbformat": 4,
 "nbformat_minor": 0
}
